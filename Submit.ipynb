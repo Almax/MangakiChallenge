{
 "cells": [
  {
   "cell_type": "code",
   "execution_count": 2,
   "metadata": {
    "collapsed": true
   },
   "outputs": [],
   "source": [
    "import lightgbm as lgb\n",
    "from sklearn.metrics import roc_auc_score\n",
    "import pandas as pd\n",
    "import numpy as np\n",
    "\n",
    "data = \"/mnt/d/Data/mangaki-data-challenge/latest/\"\n",
    "train = pd.read_csv(data+'train_0.csv')\n",
    "test = pd.read_csv(data+'test_0.csv')\n",
    "\n",
    "params = {\n",
    "    'task': 'train',\n",
    "    'boosting_type': 'rf',\n",
    "    'objective': 'binary',\n",
    "    'metric': {'auc'},\n",
    "    'num_leaves': 450,\n",
    "    'min_data_in_leaf': 8,\n",
    "    'feature_fraction': 0.6,\n",
    "    'bagging_fraction': 0.8,\n",
    "    'bagging_freq': 1,\n",
    "    'lambda_l1': 0,\n",
    "    'min_gain_to_split': 0,\n",
    "    'verbose': 0\n",
    "}"
   ]
  },
  {
   "cell_type": "code",
   "execution_count": 3,
   "metadata": {
    "collapsed": true
   },
   "outputs": [],
   "source": [
    "params = {\n",
    "    'task': 'train',\n",
    "    'boosting_type': 'gbdt',\n",
    "    'objective': 'binary',\n",
    "    'metric': {'auc'},\n",
    "    'num_leaves': 60,\n",
    "    'min_data_in_leaf': 60,\n",
    "    'feature_fraction': 0.6,\n",
    "    'bagging_fraction': 0.96,\n",
    "    'bagging_freq': 1,\n",
    "    'lambda_l1': 0,\n",
    "    'verbose': 0\n",
    "}"
   ]
  },
  {
   "cell_type": "code",
   "execution_count": 4,
   "metadata": {
    "scrolled": true
   },
   "outputs": [
    {
     "name": "stdout",
     "output_type": "stream",
     "text": [
      "[1]\ttraining's auc: 0.764878\n",
      "[2]\ttraining's auc: 0.804899\n",
      "[3]\ttraining's auc: 0.819501\n",
      "[4]\ttraining's auc: 0.830656\n",
      "[5]\ttraining's auc: 0.833657\n",
      "[6]\ttraining's auc: 0.842414\n",
      "[7]\ttraining's auc: 0.847715\n",
      "[8]\ttraining's auc: 0.851276\n",
      "[9]\ttraining's auc: 0.856444\n",
      "[10]\ttraining's auc: 0.860661\n",
      "[11]\ttraining's auc: 0.864061\n",
      "[12]\ttraining's auc: 0.868097\n",
      "[13]\ttraining's auc: 0.872097\n",
      "[14]\ttraining's auc: 0.877377\n",
      "[15]\ttraining's auc: 0.881081\n",
      "[16]\ttraining's auc: 0.884323\n",
      "[17]\ttraining's auc: 0.888547\n",
      "[18]\ttraining's auc: 0.891383\n",
      "[19]\ttraining's auc: 0.894178\n",
      "[20]\ttraining's auc: 0.896842\n",
      "[21]\ttraining's auc: 0.899678\n",
      "[22]\ttraining's auc: 0.901846\n",
      "[23]\ttraining's auc: 0.90475\n",
      "[24]\ttraining's auc: 0.907068\n",
      "[25]\ttraining's auc: 0.910249\n",
      "[26]\ttraining's auc: 0.912402\n",
      "[27]\ttraining's auc: 0.915018\n",
      "[28]\ttraining's auc: 0.917068\n",
      "[29]\ttraining's auc: 0.918972\n",
      "[30]\ttraining's auc: 0.920938\n",
      "[31]\ttraining's auc: 0.923179\n",
      "[32]\ttraining's auc: 0.924769\n",
      "[33]\ttraining's auc: 0.926708\n",
      "[34]\ttraining's auc: 0.928622\n",
      "[35]\ttraining's auc: 0.930693\n",
      "[36]\ttraining's auc: 0.932652\n",
      "[37]\ttraining's auc: 0.934411\n",
      "[38]\ttraining's auc: 0.936787\n",
      "[39]\ttraining's auc: 0.938684\n",
      "[40]\ttraining's auc: 0.940399\n",
      "[41]\ttraining's auc: 0.94205\n",
      "[42]\ttraining's auc: 0.943388\n",
      "[43]\ttraining's auc: 0.94451\n",
      "[44]\ttraining's auc: 0.946183\n",
      "[45]\ttraining's auc: 0.947771\n",
      "[46]\ttraining's auc: 0.94917\n",
      "[47]\ttraining's auc: 0.950323\n",
      "[48]\ttraining's auc: 0.951585\n",
      "[49]\ttraining's auc: 0.953019\n",
      "[50]\ttraining's auc: 0.954226\n",
      "[51]\ttraining's auc: 0.955502\n",
      "[52]\ttraining's auc: 0.956838\n",
      "[53]\ttraining's auc: 0.958083\n",
      "[54]\ttraining's auc: 0.959412\n",
      "[55]\ttraining's auc: 0.960679\n",
      "[56]\ttraining's auc: 0.961886\n",
      "[57]\ttraining's auc: 0.962996\n",
      "[58]\ttraining's auc: 0.96421\n",
      "[59]\ttraining's auc: 0.965362\n",
      "[60]\ttraining's auc: 0.966501\n",
      "[61]\ttraining's auc: 0.967589\n",
      "[62]\ttraining's auc: 0.968508\n",
      "[63]\ttraining's auc: 0.969647\n",
      "[64]\ttraining's auc: 0.970542\n",
      "[65]\ttraining's auc: 0.971672\n",
      "[66]\ttraining's auc: 0.972475\n",
      "[67]\ttraining's auc: 0.973238\n",
      "[68]\ttraining's auc: 0.974028\n",
      "[69]\ttraining's auc: 0.974763\n",
      "[70]\ttraining's auc: 0.975539\n",
      "[71]\ttraining's auc: 0.976257\n",
      "[72]\ttraining's auc: 0.976903\n",
      "[73]\ttraining's auc: 0.97759\n",
      "[74]\ttraining's auc: 0.978114\n",
      "[75]\ttraining's auc: 0.979062\n",
      "[76]\ttraining's auc: 0.979882\n",
      "[77]\ttraining's auc: 0.980527\n",
      "[78]\ttraining's auc: 0.981117\n",
      "[79]\ttraining's auc: 0.981733\n",
      "[80]\ttraining's auc: 0.982377\n",
      "[81]\ttraining's auc: 0.982986\n",
      "[82]\ttraining's auc: 0.983617\n",
      "[83]\ttraining's auc: 0.984146\n",
      "[84]\ttraining's auc: 0.984709\n",
      "[85]\ttraining's auc: 0.985237\n",
      "[86]\ttraining's auc: 0.985809\n",
      "[87]\ttraining's auc: 0.986399\n",
      "[88]\ttraining's auc: 0.986845\n",
      "[89]\ttraining's auc: 0.987275\n",
      "[90]\ttraining's auc: 0.98768\n",
      "[91]\ttraining's auc: 0.98817\n",
      "[92]\ttraining's auc: 0.988565\n",
      "[93]\ttraining's auc: 0.988972\n",
      "[94]\ttraining's auc: 0.989345\n",
      "[95]\ttraining's auc: 0.989767\n",
      "[96]\ttraining's auc: 0.990125\n",
      "[97]\ttraining's auc: 0.990344\n",
      "[98]\ttraining's auc: 0.990732\n",
      "[99]\ttraining's auc: 0.991096\n",
      "[100]\ttraining's auc: 0.991487\n",
      "[101]\ttraining's auc: 0.991802\n",
      "[102]\ttraining's auc: 0.992068\n",
      "[103]\ttraining's auc: 0.992391\n",
      "[104]\ttraining's auc: 0.992733\n",
      "[105]\ttraining's auc: 0.993023\n",
      "[106]\ttraining's auc: 0.99334\n",
      "[107]\ttraining's auc: 0.993614\n",
      "[108]\ttraining's auc: 0.993804\n",
      "[109]\ttraining's auc: 0.994039\n",
      "[110]\ttraining's auc: 0.994197\n",
      "[111]\ttraining's auc: 0.994451\n",
      "[112]\ttraining's auc: 0.994654\n",
      "[113]\ttraining's auc: 0.994874\n",
      "[114]\ttraining's auc: 0.995037\n",
      "[115]\ttraining's auc: 0.995241\n",
      "[116]\ttraining's auc: 0.995469\n",
      "[117]\ttraining's auc: 0.995678\n",
      "[118]\ttraining's auc: 0.995858\n",
      "[119]\ttraining's auc: 0.996038\n",
      "[120]\ttraining's auc: 0.996221\n",
      "[121]\ttraining's auc: 0.996403\n",
      "[122]\ttraining's auc: 0.996524\n",
      "[123]\ttraining's auc: 0.996726\n",
      "[124]\ttraining's auc: 0.996933\n",
      "[125]\ttraining's auc: 0.997082\n",
      "[126]\ttraining's auc: 0.997187\n",
      "[127]\ttraining's auc: 0.997314\n",
      "[128]\ttraining's auc: 0.997443\n",
      "[129]\ttraining's auc: 0.997553\n",
      "[130]\ttraining's auc: 0.997692\n",
      "[131]\ttraining's auc: 0.997796\n",
      "[132]\ttraining's auc: 0.997893\n",
      "[133]\ttraining's auc: 0.998008\n",
      "[134]\ttraining's auc: 0.998116\n",
      "[135]\ttraining's auc: 0.998229\n",
      "[136]\ttraining's auc: 0.998324\n",
      "[137]\ttraining's auc: 0.998402\n",
      "[138]\ttraining's auc: 0.998477\n",
      "[139]\ttraining's auc: 0.998553\n",
      "[140]\ttraining's auc: 0.998596\n",
      "[141]\ttraining's auc: 0.998666\n",
      "[142]\ttraining's auc: 0.998732\n"
     ]
    }
   ],
   "source": [
    "X = lgb.Dataset(train.drop(['user_id', 'work_id', 'rating'], axis=1), train['rating'])\n",
    "gbdt = lgb.train(params, X, num_boost_round=142, valid_sets=[X], verbose_eval=True)\n",
    "Y = gbdt.predict(test.drop(['user_id', 'work_id'], axis=1))"
   ]
  },
  {
   "cell_type": "code",
   "execution_count": 3,
   "metadata": {
    "collapsed": true
   },
   "outputs": [],
   "source": [
    "# fm training\n",
    "from scipy.sparse import hstack\n",
    "from fastFM import sgd\n",
    "from sklearn.metrics import roc_auc_score\n",
    "from sklearn.datasets import load_svmlight_file\n",
    "\n",
    "path = \"/mnt/d/Data/mangaki-data-challenge/libfm/\"\n",
    "\n",
    "params = {\n",
    "    'n_iter':300000, \n",
    "    'init_stdev':0.01,\n",
    "    'l2_reg_w':0.0001,\n",
    "    'l2_reg_V':0.5,\n",
    "    'rank':1,\n",
    "    'step_size':0.02\n",
    "}\n",
    "\n",
    "train, ty = load_svmlight_file(path+\"train_0.csv\", zero_based=True)\n",
    "test, _ = load_svmlight_file(path+\"test_0.csv\")\n",
    "fm = sgd.FMClassification(**params)\n",
    "fm.fit(train, np.require(ty*2-1, dtype=np.int))\n",
    "Y = fm.predict_proba(test)"
   ]
  },
  {
   "cell_type": "code",
   "execution_count": 5,
   "metadata": {
    "collapsed": true
   },
   "outputs": [],
   "source": [
    "test = pd.read_csv(data+'../test.csv', dtype={\n",
    "    'user_id': np.int16,\n",
    "    'work_id': np.int16\n",
    "})\n",
    "#test['prob_willsee'] = (pgbdt*0.804944+prf*0.802744)/(0.802744+0.804944)\n",
    "test['prob_willsee'] = Y"
   ]
  },
  {
   "cell_type": "code",
   "execution_count": 6,
   "metadata": {
    "collapsed": true
   },
   "outputs": [],
   "source": [
    "pgbdt=Y"
   ]
  },
  {
   "cell_type": "code",
   "execution_count": 3,
   "metadata": {
    "collapsed": true
   },
   "outputs": [],
   "source": [
    "prf=Y"
   ]
  },
  {
   "cell_type": "code",
   "execution_count": 7,
   "metadata": {
    "collapsed": true
   },
   "outputs": [],
   "source": [
    "test.to_csv(data+\"../result_09_15_01.csv\", index=False)"
   ]
  },
  {
   "cell_type": "code",
   "execution_count": 6,
   "metadata": {},
   "outputs": [
    {
     "data": {
      "text/plain": [
       "array([ 0.36552496,  0.84494495,  0.33360538, ...,  0.80084167,\n",
       "        0.90624881,  0.53616675])"
      ]
     },
     "execution_count": 6,
     "metadata": {},
     "output_type": "execute_result"
    }
   ],
   "source": [
    "Y"
   ]
  },
  {
   "cell_type": "code",
   "execution_count": 9,
   "metadata": {
    "collapsed": true
   },
   "outputs": [],
   "source": [
    "pt = pd.read_csv(data+\"../libfm/test_result.csv\", header=None, names=['prob_willsee'])"
   ]
  },
  {
   "cell_type": "code",
   "execution_count": 11,
   "metadata": {
    "collapsed": true
   },
   "outputs": [],
   "source": [
    "test['prob_willsee']=pt"
   ]
  },
  {
   "cell_type": "code",
   "execution_count": 16,
   "metadata": {},
   "outputs": [
    {
     "data": {
      "text/plain": [
       "92698"
      ]
     },
     "execution_count": 16,
     "metadata": {},
     "output_type": "execute_result"
    }
   ],
   "source": [
    "(fm.predict_proba(test)>0.99).sum()"
   ]
  },
  {
   "cell_type": "code",
   "execution_count": 20,
   "metadata": {},
   "outputs": [
    {
     "data": {
      "text/plain": [
       "array([ 0.,  0.,  0., ...,  0.,  0.,  0.])"
      ]
     },
     "execution_count": 20,
     "metadata": {},
     "output_type": "execute_result"
    }
   ],
   "source": [
    "_"
   ]
  },
  {
   "cell_type": "code",
   "execution_count": 30,
   "metadata": {},
   "outputs": [
    {
     "data": {
      "text/plain": [
       "<11112x11891 sparse matrix of type '<class 'numpy.float64'>'\n",
       "\twith 146128 stored elements in Compressed Sparse Row format>"
      ]
     },
     "execution_count": 30,
     "metadata": {},
     "output_type": "execute_result"
    }
   ],
   "source": [
    "train"
   ]
  },
  {
   "cell_type": "code",
   "execution_count": 31,
   "metadata": {},
   "outputs": [
    {
     "data": {
      "text/plain": [
       "<100015x11892 sparse matrix of type '<class 'numpy.float64'>'\n",
       "\twith 1315262 stored elements in Compressed Sparse Row format>"
      ]
     },
     "execution_count": 31,
     "metadata": {},
     "output_type": "execute_result"
    }
   ],
   "source": [
    "test"
   ]
  },
  {
   "cell_type": "code",
   "execution_count": 23,
   "metadata": {},
   "outputs": [
    {
     "data": {
      "text/plain": [
       "array([ 1.        ,  1.        ,  0.72826087,  0.15217391,  2.60869565,\n",
       "        0.17366651,  0.27941176,  0.2254902 ,  0.00980392,  0.48529412,\n",
       "        1.96568627,  0.18466436])"
      ]
     },
     "execution_count": 23,
     "metadata": {},
     "output_type": "execute_result"
    }
   ],
   "source": [
    "test[0,:].data"
   ]
  },
  {
   "cell_type": "code",
   "execution_count": 28,
   "metadata": {},
   "outputs": [
    {
     "data": {
      "text/plain": [
       "array([ 0, 12], dtype=int32)"
      ]
     },
     "execution_count": 28,
     "metadata": {},
     "output_type": "execute_result"
    }
   ],
   "source": [
    "test[0,:].indptr"
   ]
  },
  {
   "cell_type": "code",
   "execution_count": 25,
   "metadata": {},
   "outputs": [
    {
     "data": {
      "text/plain": [
       "array([ 1.        ,  1.        ,  0.39189189,  0.39189189,  0.04054054,\n",
       "        0.17567568,  0.52027027,  0.97582781,  0.07478632,  0.70299145,\n",
       "        0.04273504,  0.17948718,  0.6784188 ,  0.66357103])"
      ]
     },
     "execution_count": 25,
     "metadata": {},
     "output_type": "execute_result"
    }
   ],
   "source": [
    "train[0, :].data"
   ]
  },
  {
   "cell_type": "code",
   "execution_count": null,
   "metadata": {
    "collapsed": true
   },
   "outputs": [],
   "source": []
  }
 ],
 "metadata": {
  "kernelspec": {
   "display_name": "Python 3",
   "language": "python",
   "name": "python3"
  },
  "language_info": {
   "codemirror_mode": {
    "name": "ipython",
    "version": 3
   },
   "file_extension": ".py",
   "mimetype": "text/x-python",
   "name": "python",
   "nbconvert_exporter": "python",
   "pygments_lexer": "ipython3",
   "version": "3.5.2"
  }
 },
 "nbformat": 4,
 "nbformat_minor": 2
}
