{
 "cells": [
  {
   "cell_type": "code",
   "execution_count": 2,
   "metadata": {
    "collapsed": true
   },
   "outputs": [],
   "source": [
    "import lightgbm as lgb\n",
    "from sklearn.metrics import roc_auc_score\n",
    "import pandas as pd\n",
    "import numpy as np\n",
    "\n",
    "data = \"/mnt/d/Data/mangaki-data-challenge/latest/\"\n",
    "train = pd.read_csv(data+'train_0.csv')\n",
    "train['item_category'] = train.item_category.astype('category')\n",
    "test = pd.read_csv(data+'test_0.csv')\n",
    "test['item_category'] = test.item_category.astype('category')\n",
    "\n",
    "params = {\n",
    "    'task': 'train',\n",
    "    'boosting_type': 'rf',\n",
    "    'objective': 'binary',\n",
    "    'metric': {'auc'},\n",
    "    'num_leaves': 450,\n",
    "    'min_data_in_leaf': 8,\n",
    "    'feature_fraction': 0.6,\n",
    "    'bagging_fraction': 0.8,\n",
    "    'bagging_freq': 1,\n",
    "    'lambda_l1': 0,\n",
    "    'min_gain_to_split': 0,\n",
    "    'verbose': 0\n",
    "}"
   ]
  },
  {
   "cell_type": "code",
   "execution_count": 3,
   "metadata": {
    "collapsed": true
   },
   "outputs": [],
   "source": [
    "params = {\n",
    "    'task': 'train',\n",
    "    'boosting_type': 'gbdt',\n",
    "    'objective': 'binary',\n",
    "    'metric': {'auc'},\n",
    "    'num_leaves': 40,\n",
    "    'min_data_in_leaf': 90,\n",
    "    'feature_fraction': 0.6,\n",
    "    'bagging_fraction': 0.96,\n",
    "    'bagging_freq': 1,\n",
    "    'lambda_l1': 0,\n",
    "    'verbose': 0\n",
    "}"
   ]
  },
  {
   "cell_type": "code",
   "execution_count": 4,
   "metadata": {
    "scrolled": true
   },
   "outputs": [
    {
     "name": "stdout",
     "output_type": "stream",
     "text": [
      "[1]\ttraining's auc: 0.759454\n",
      "[2]\ttraining's auc: 0.786068\n",
      "[3]\ttraining's auc: 0.802597\n",
      "[4]\ttraining's auc: 0.817182\n",
      "[5]\ttraining's auc: 0.824382\n",
      "[6]\ttraining's auc: 0.828355\n",
      "[7]\ttraining's auc: 0.831602\n",
      "[8]\ttraining's auc: 0.834986\n",
      "[9]\ttraining's auc: 0.839036\n",
      "[10]\ttraining's auc: 0.843212\n",
      "[11]\ttraining's auc: 0.846991\n",
      "[12]\ttraining's auc: 0.850615\n",
      "[13]\ttraining's auc: 0.853322\n",
      "[14]\ttraining's auc: 0.856913\n",
      "[15]\ttraining's auc: 0.86063\n",
      "[16]\ttraining's auc: 0.863923\n",
      "[17]\ttraining's auc: 0.867107\n",
      "[18]\ttraining's auc: 0.869813\n",
      "[19]\ttraining's auc: 0.871613\n",
      "[20]\ttraining's auc: 0.874247\n",
      "[21]\ttraining's auc: 0.876448\n",
      "[22]\ttraining's auc: 0.878947\n",
      "[23]\ttraining's auc: 0.881521\n",
      "[24]\ttraining's auc: 0.884322\n",
      "[25]\ttraining's auc: 0.887147\n",
      "[26]\ttraining's auc: 0.889298\n",
      "[27]\ttraining's auc: 0.891788\n",
      "[28]\ttraining's auc: 0.893882\n",
      "[29]\ttraining's auc: 0.895678\n",
      "[30]\ttraining's auc: 0.897765\n",
      "[31]\ttraining's auc: 0.899408\n",
      "[32]\ttraining's auc: 0.901417\n",
      "[33]\ttraining's auc: 0.903078\n",
      "[34]\ttraining's auc: 0.904582\n",
      "[35]\ttraining's auc: 0.906369\n",
      "[36]\ttraining's auc: 0.908207\n",
      "[37]\ttraining's auc: 0.909948\n",
      "[38]\ttraining's auc: 0.911416\n",
      "[39]\ttraining's auc: 0.913242\n",
      "[40]\ttraining's auc: 0.91506\n",
      "[41]\ttraining's auc: 0.91689\n",
      "[42]\ttraining's auc: 0.918346\n",
      "[43]\ttraining's auc: 0.919757\n",
      "[44]\ttraining's auc: 0.921062\n",
      "[45]\ttraining's auc: 0.922702\n",
      "[46]\ttraining's auc: 0.924011\n",
      "[47]\ttraining's auc: 0.925237\n",
      "[48]\ttraining's auc: 0.926448\n",
      "[49]\ttraining's auc: 0.927467\n",
      "[50]\ttraining's auc: 0.928853\n",
      "[51]\ttraining's auc: 0.93027\n",
      "[52]\ttraining's auc: 0.93133\n",
      "[53]\ttraining's auc: 0.932413\n",
      "[54]\ttraining's auc: 0.933457\n",
      "[55]\ttraining's auc: 0.934656\n",
      "[56]\ttraining's auc: 0.935632\n",
      "[57]\ttraining's auc: 0.936443\n",
      "[58]\ttraining's auc: 0.9375\n",
      "[59]\ttraining's auc: 0.93877\n",
      "[60]\ttraining's auc: 0.939533\n",
      "[61]\ttraining's auc: 0.940562\n",
      "[62]\ttraining's auc: 0.941782\n",
      "[63]\ttraining's auc: 0.943083\n",
      "[64]\ttraining's auc: 0.94411\n",
      "[65]\ttraining's auc: 0.945322\n",
      "[66]\ttraining's auc: 0.946608\n",
      "[67]\ttraining's auc: 0.947304\n",
      "[68]\ttraining's auc: 0.948202\n",
      "[69]\ttraining's auc: 0.94893\n",
      "[70]\ttraining's auc: 0.949781\n",
      "[71]\ttraining's auc: 0.950728\n",
      "[72]\ttraining's auc: 0.951396\n",
      "[73]\ttraining's auc: 0.952356\n",
      "[74]\ttraining's auc: 0.953414\n",
      "[75]\ttraining's auc: 0.954026\n",
      "[76]\ttraining's auc: 0.954908\n",
      "[77]\ttraining's auc: 0.955669\n",
      "[78]\ttraining's auc: 0.956457\n",
      "[79]\ttraining's auc: 0.957359\n",
      "[80]\ttraining's auc: 0.958135\n",
      "[81]\ttraining's auc: 0.959029\n",
      "[82]\ttraining's auc: 0.959864\n",
      "[83]\ttraining's auc: 0.960611\n",
      "[84]\ttraining's auc: 0.961427\n",
      "[85]\ttraining's auc: 0.962027\n",
      "[86]\ttraining's auc: 0.962756\n",
      "[87]\ttraining's auc: 0.963457\n",
      "[88]\ttraining's auc: 0.964208\n",
      "[89]\ttraining's auc: 0.965008\n",
      "[90]\ttraining's auc: 0.965607\n",
      "[91]\ttraining's auc: 0.966259\n",
      "[92]\ttraining's auc: 0.966865\n",
      "[93]\ttraining's auc: 0.967374\n",
      "[94]\ttraining's auc: 0.968004\n",
      "[95]\ttraining's auc: 0.968571\n",
      "[96]\ttraining's auc: 0.969226\n",
      "[97]\ttraining's auc: 0.969876\n",
      "[98]\ttraining's auc: 0.97039\n",
      "[99]\ttraining's auc: 0.970978\n",
      "[100]\ttraining's auc: 0.971391\n",
      "[101]\ttraining's auc: 0.971868\n",
      "[102]\ttraining's auc: 0.972402\n",
      "[103]\ttraining's auc: 0.972885\n",
      "[104]\ttraining's auc: 0.973419\n",
      "[105]\ttraining's auc: 0.97387\n",
      "[106]\ttraining's auc: 0.974346\n",
      "[107]\ttraining's auc: 0.974887\n",
      "[108]\ttraining's auc: 0.975476\n",
      "[109]\ttraining's auc: 0.97588\n",
      "[110]\ttraining's auc: 0.976276\n",
      "[111]\ttraining's auc: 0.976658\n",
      "[112]\ttraining's auc: 0.977097\n",
      "[113]\ttraining's auc: 0.977608\n",
      "[114]\ttraining's auc: 0.977806\n",
      "[115]\ttraining's auc: 0.978187\n",
      "[116]\ttraining's auc: 0.978609\n",
      "[117]\ttraining's auc: 0.979108\n",
      "[118]\ttraining's auc: 0.979575\n",
      "[119]\ttraining's auc: 0.979977\n"
     ]
    }
   ],
   "source": [
    "X = lgb.Dataset(train.drop(['user_id', 'work_id', 'rating'], axis=1), train['rating'])\n",
    "gbdt = lgb.train(params, X, num_boost_round=119, valid_sets=[X], verbose_eval=True)\n",
    "Y = gbdt.predict(test.drop(['user_id', 'work_id'], axis=1))"
   ]
  },
  {
   "cell_type": "code",
   "execution_count": 2,
   "metadata": {
    "collapsed": true
   },
   "outputs": [],
   "source": [
    "# fm training\n",
    "from scipy.sparse import hstack\n",
    "from fastFM import sgd\n",
    "from sklearn.metrics import roc_auc_score\n",
    "from sklearn.datasets import load_svmlight_file\n",
    "\n",
    "path = \"/mnt/d/Data/mangaki-data-challenge/libfm/\"\n",
    "\n",
    "params = {\n",
    "    'n_iter':340000, \n",
    "    'init_stdev':0.01,\n",
    "    'l2_reg_w':0.00025,\n",
    "    'l2_reg_V':0.5,\n",
    "    'rank':1,\n",
    "    'step_size':0.02\n",
    "}\n",
    "\n",
    "train, ty = load_svmlight_file(path+\"train_0.csv\", zero_based=True)\n",
    "test, _ = load_svmlight_file(path+\"test_0.csv\")\n",
    "fm = sgd.FMClassification(**params)\n",
    "fm.fit(train, np.require(ty*2-1, dtype=np.int))\n",
    "Y = fm.predict_proba(test)"
   ]
  },
  {
   "cell_type": "code",
   "execution_count": null,
   "metadata": {
    "collapsed": true
   },
   "outputs": [],
   "source": []
  },
  {
   "cell_type": "code",
   "execution_count": 5,
   "metadata": {
    "collapsed": true
   },
   "outputs": [],
   "source": [
    "test = pd.read_csv(data+'../test.csv', dtype={\n",
    "    'user_id': np.int16,\n",
    "    'work_id': np.int16\n",
    "})\n",
    "#test['prob_willsee'] = (pgbdt*0.804944+prf*0.802744)/(0.802744+0.804944)\n",
    "test['prob_willsee'] = Y"
   ]
  },
  {
   "cell_type": "code",
   "execution_count": 6,
   "metadata": {
    "collapsed": true
   },
   "outputs": [],
   "source": [
    "pgbdt=Y"
   ]
  },
  {
   "cell_type": "code",
   "execution_count": 3,
   "metadata": {
    "collapsed": true
   },
   "outputs": [],
   "source": [
    "prf=Y"
   ]
  },
  {
   "cell_type": "code",
   "execution_count": 7,
   "metadata": {
    "collapsed": true
   },
   "outputs": [],
   "source": [
    "test.to_csv(data+\"../result_09_16_02.csv\", index=False)"
   ]
  },
  {
   "cell_type": "code",
   "execution_count": 6,
   "metadata": {},
   "outputs": [
    {
     "data": {
      "text/plain": [
       "array([ 0.54248543,  0.53549656,  0.25285365, ...,  0.70869188,\n",
       "        0.8427376 ,  0.22460439])"
      ]
     },
     "execution_count": 6,
     "metadata": {},
     "output_type": "execute_result"
    }
   ],
   "source": [
    "Y"
   ]
  },
  {
   "cell_type": "code",
   "execution_count": 9,
   "metadata": {
    "collapsed": true
   },
   "outputs": [],
   "source": [
    "pt = pd.read_csv(data+\"../libfm/test_result.csv\", header=None, names=['prob_willsee'])"
   ]
  },
  {
   "cell_type": "code",
   "execution_count": 11,
   "metadata": {
    "collapsed": true
   },
   "outputs": [],
   "source": [
    "test['prob_willsee']=pt"
   ]
  },
  {
   "cell_type": "code",
   "execution_count": 16,
   "metadata": {},
   "outputs": [
    {
     "data": {
      "text/plain": [
       "92698"
      ]
     },
     "execution_count": 16,
     "metadata": {},
     "output_type": "execute_result"
    }
   ],
   "source": [
    "(fm.predict_proba(test)>0.99).sum()"
   ]
  },
  {
   "cell_type": "code",
   "execution_count": 20,
   "metadata": {},
   "outputs": [
    {
     "data": {
      "text/plain": [
       "array([ 0.,  0.,  0., ...,  0.,  0.,  0.])"
      ]
     },
     "execution_count": 20,
     "metadata": {},
     "output_type": "execute_result"
    }
   ],
   "source": [
    "_"
   ]
  },
  {
   "cell_type": "code",
   "execution_count": 30,
   "metadata": {},
   "outputs": [
    {
     "data": {
      "text/plain": [
       "<11112x11891 sparse matrix of type '<class 'numpy.float64'>'\n",
       "\twith 146128 stored elements in Compressed Sparse Row format>"
      ]
     },
     "execution_count": 30,
     "metadata": {},
     "output_type": "execute_result"
    }
   ],
   "source": [
    "train"
   ]
  },
  {
   "cell_type": "code",
   "execution_count": 31,
   "metadata": {},
   "outputs": [
    {
     "data": {
      "text/plain": [
       "<100015x11892 sparse matrix of type '<class 'numpy.float64'>'\n",
       "\twith 1315262 stored elements in Compressed Sparse Row format>"
      ]
     },
     "execution_count": 31,
     "metadata": {},
     "output_type": "execute_result"
    }
   ],
   "source": [
    "test"
   ]
  },
  {
   "cell_type": "code",
   "execution_count": 23,
   "metadata": {},
   "outputs": [
    {
     "data": {
      "text/plain": [
       "array([ 1.        ,  1.        ,  0.72826087,  0.15217391,  2.60869565,\n",
       "        0.17366651,  0.27941176,  0.2254902 ,  0.00980392,  0.48529412,\n",
       "        1.96568627,  0.18466436])"
      ]
     },
     "execution_count": 23,
     "metadata": {},
     "output_type": "execute_result"
    }
   ],
   "source": [
    "test[0,:].data"
   ]
  },
  {
   "cell_type": "code",
   "execution_count": 28,
   "metadata": {},
   "outputs": [
    {
     "data": {
      "text/plain": [
       "array([ 0, 12], dtype=int32)"
      ]
     },
     "execution_count": 28,
     "metadata": {},
     "output_type": "execute_result"
    }
   ],
   "source": [
    "test[0,:].indptr"
   ]
  },
  {
   "cell_type": "code",
   "execution_count": 25,
   "metadata": {},
   "outputs": [
    {
     "data": {
      "text/plain": [
       "array([ 1.        ,  1.        ,  0.39189189,  0.39189189,  0.04054054,\n",
       "        0.17567568,  0.52027027,  0.97582781,  0.07478632,  0.70299145,\n",
       "        0.04273504,  0.17948718,  0.6784188 ,  0.66357103])"
      ]
     },
     "execution_count": 25,
     "metadata": {},
     "output_type": "execute_result"
    }
   ],
   "source": [
    "train[0, :].data"
   ]
  },
  {
   "cell_type": "code",
   "execution_count": null,
   "metadata": {
    "collapsed": true
   },
   "outputs": [],
   "source": []
  }
 ],
 "metadata": {
  "kernelspec": {
   "display_name": "Python 3",
   "language": "python",
   "name": "python3"
  },
  "language_info": {
   "codemirror_mode": {
    "name": "ipython",
    "version": 3
   },
   "file_extension": ".py",
   "mimetype": "text/x-python",
   "name": "python",
   "nbconvert_exporter": "python",
   "pygments_lexer": "ipython3",
   "version": "3.5.2"
  }
 },
 "nbformat": 4,
 "nbformat_minor": 2
}
