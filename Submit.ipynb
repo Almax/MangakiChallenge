{
 "cells": [
  {
   "cell_type": "code",
   "execution_count": 2,
   "metadata": {},
   "outputs": [],
   "source": [
    "import lightgbm as lgb\n",
    "from sklearn.metrics import roc_auc_score\n",
    "import pandas as pd\n",
    "import numpy as np\n",
    "\n",
    "data = \"/mnt/d/Data/mangaki-data-challenge/baseline/level1/\"\n",
    "train = pd.read_csv(data+'train_0.csv')\n",
    "#train['item_category'] = train.item_category.astype('category')\n",
    "test = pd.read_csv(data+'test_0.csv')\n",
    "#test['item_category'] = test.item_category.astype('category')\n",
    "\n",
    "params = {\n",
    "    'task': 'train',\n",
    "    'boosting_type': 'gbdt',\n",
    "    'objective': 'binary',\n",
    "    'metric': {'auc'},\n",
    "    'num_leaves': 2,\n",
    "    'min_data_in_leaf': 400,\n",
    "    'feature_fraction': 1,\n",
    "    'bagging_fraction': 0.91,\n",
    "    'bagging_freq': 1,\n",
    "    'verbose': 0\n",
    "}"
   ]
  },
  {
   "cell_type": "code",
   "execution_count": 3,
   "metadata": {
    "collapsed": true
   },
   "outputs": [],
   "source": [
    "params = {\n",
    "    'task': 'train',\n",
    "    'boosting_type': 'gbdt',\n",
    "    'objective': 'binary',\n",
    "    'metric': {'auc'},\n",
    "    'num_leaves': 40,\n",
    "    'min_data_in_leaf': 90,\n",
    "    'feature_fraction': 0.6,\n",
    "    'bagging_fraction': 0.96,\n",
    "    'bagging_freq': 1,\n",
    "    'lambda_l1': 0,\n",
    "    'verbose': 0\n",
    "}"
   ]
  },
  {
   "cell_type": "code",
   "execution_count": 3,
   "metadata": {
    "scrolled": true
   },
   "outputs": [
    {
     "name": "stdout",
     "output_type": "stream",
     "text": [
      "[1]\ttraining's auc: 0.740249\n",
      "[2]\ttraining's auc: 0.778269\n",
      "[3]\ttraining's auc: 0.794706\n",
      "[4]\ttraining's auc: 0.80842\n",
      "[5]\ttraining's auc: 0.812572\n",
      "[6]\ttraining's auc: 0.816054\n",
      "[7]\ttraining's auc: 0.816169\n",
      "[8]\ttraining's auc: 0.822937\n",
      "[9]\ttraining's auc: 0.825113\n",
      "[10]\ttraining's auc: 0.825148\n",
      "[11]\ttraining's auc: 0.825236\n",
      "[12]\ttraining's auc: 0.826872\n",
      "[13]\ttraining's auc: 0.832693\n",
      "[14]\ttraining's auc: 0.833093\n",
      "[15]\ttraining's auc: 0.833363\n",
      "[16]\ttraining's auc: 0.833332\n",
      "[17]\ttraining's auc: 0.834451\n",
      "[18]\ttraining's auc: 0.835752\n",
      "[19]\ttraining's auc: 0.835771\n",
      "[20]\ttraining's auc: 0.838157\n",
      "[21]\ttraining's auc: 0.83824\n",
      "[22]\ttraining's auc: 0.839609\n",
      "[23]\ttraining's auc: 0.840116\n",
      "[24]\ttraining's auc: 0.841363\n",
      "[25]\ttraining's auc: 0.841644\n",
      "[26]\ttraining's auc: 0.841628\n",
      "[27]\ttraining's auc: 0.841673\n",
      "[28]\ttraining's auc: 0.841744\n",
      "[29]\ttraining's auc: 0.841767\n",
      "[30]\ttraining's auc: 0.842111\n",
      "[31]\ttraining's auc: 0.842074\n",
      "[32]\ttraining's auc: 0.842466\n",
      "[33]\ttraining's auc: 0.842498\n",
      "[34]\ttraining's auc: 0.842678\n",
      "[35]\ttraining's auc: 0.842841\n",
      "[36]\ttraining's auc: 0.842862\n",
      "[37]\ttraining's auc: 0.842883\n",
      "[38]\ttraining's auc: 0.842887\n",
      "[39]\ttraining's auc: 0.843195\n",
      "[40]\ttraining's auc: 0.843184\n",
      "[41]\ttraining's auc: 0.843232\n",
      "[42]\ttraining's auc: 0.843291\n",
      "[43]\ttraining's auc: 0.843326\n",
      "[44]\ttraining's auc: 0.843319\n",
      "[45]\ttraining's auc: 0.843348\n",
      "[46]\ttraining's auc: 0.843368\n",
      "[47]\ttraining's auc: 0.843353\n",
      "[48]\ttraining's auc: 0.843371\n",
      "[49]\ttraining's auc: 0.843497\n",
      "[50]\ttraining's auc: 0.843515\n",
      "[51]\ttraining's auc: 0.843551\n",
      "[52]\ttraining's auc: 0.843553\n",
      "[53]\ttraining's auc: 0.843558\n",
      "[54]\ttraining's auc: 0.843539\n",
      "[55]\ttraining's auc: 0.843576\n",
      "[56]\ttraining's auc: 0.843642\n",
      "[57]\ttraining's auc: 0.84367\n",
      "[58]\ttraining's auc: 0.84366\n",
      "[59]\ttraining's auc: 0.843703\n",
      "[60]\ttraining's auc: 0.843716\n",
      "[61]\ttraining's auc: 0.843712\n",
      "[62]\ttraining's auc: 0.843742\n",
      "[63]\ttraining's auc: 0.843764\n",
      "[64]\ttraining's auc: 0.843775\n",
      "[65]\ttraining's auc: 0.84378\n",
      "[66]\ttraining's auc: 0.843792\n",
      "[67]\ttraining's auc: 0.843799\n",
      "[68]\ttraining's auc: 0.843802\n",
      "[69]\ttraining's auc: 0.843804\n",
      "[70]\ttraining's auc: 0.843802\n",
      "[71]\ttraining's auc: 0.843802\n",
      "[72]\ttraining's auc: 0.843789\n",
      "[73]\ttraining's auc: 0.843782\n",
      "[74]\ttraining's auc: 0.843797\n",
      "[75]\ttraining's auc: 0.843779\n",
      "[76]\ttraining's auc: 0.843794\n",
      "[77]\ttraining's auc: 0.843822\n",
      "[78]\ttraining's auc: 0.84384\n",
      "[79]\ttraining's auc: 0.843829\n",
      "[80]\ttraining's auc: 0.843849\n",
      "[81]\ttraining's auc: 0.843846\n",
      "[82]\ttraining's auc: 0.843847\n",
      "[83]\ttraining's auc: 0.843836\n",
      "[84]\ttraining's auc: 0.843847\n",
      "[85]\ttraining's auc: 0.843846\n",
      "[86]\ttraining's auc: 0.843845\n",
      "[87]\ttraining's auc: 0.843842\n",
      "[88]\ttraining's auc: 0.843849\n",
      "[89]\ttraining's auc: 0.843847\n",
      "[90]\ttraining's auc: 0.843858\n",
      "[91]\ttraining's auc: 0.843865\n",
      "[92]\ttraining's auc: 0.843853\n",
      "[93]\ttraining's auc: 0.843862\n",
      "[94]\ttraining's auc: 0.843857\n"
     ]
    }
   ],
   "source": [
    "X = lgb.Dataset(train.drop(['user_id', 'work_id', 'rating'], axis=1), train['rating'])\n",
    "gbdt = lgb.train(params, X, num_boost_round=94, valid_sets=[X], verbose_eval=True)\n",
    "Y = gbdt.predict(test.drop(['user_id', 'work_id'], axis=1))"
   ]
  },
  {
   "cell_type": "code",
   "execution_count": 2,
   "metadata": {
    "collapsed": true
   },
   "outputs": [],
   "source": [
    "# fm training\n",
    "from scipy.sparse import hstack\n",
    "from fastFM import sgd\n",
    "from sklearn.metrics import roc_auc_score\n",
    "from sklearn.datasets import load_svmlight_file\n",
    "\n",
    "path = \"/mnt/d/Data/mangaki-data-challenge/libfm/\"\n",
    "\n",
    "params = {\n",
    "    'n_iter':340000, \n",
    "    'init_stdev':0.01,\n",
    "    'l2_reg_w':0.00025,\n",
    "    'l2_reg_V':0.5,\n",
    "    'rank':1,\n",
    "    'step_size':0.02\n",
    "}\n",
    "\n",
    "train, ty = load_svmlight_file(path+\"train_0.csv\", zero_based=True)\n",
    "test, _ = load_svmlight_file(path+\"test_0.csv\")\n",
    "fm = sgd.FMClassification(**params)\n",
    "fm.fit(train, np.require(ty*2-1, dtype=np.int))\n",
    "Y = fm.predict_proba(test)"
   ]
  },
  {
   "cell_type": "code",
   "execution_count": null,
   "metadata": {
    "collapsed": true
   },
   "outputs": [],
   "source": []
  },
  {
   "cell_type": "code",
   "execution_count": 5,
   "metadata": {},
   "outputs": [],
   "source": [
    "test = pd.read_csv('/mnt/d/Data/mangaki-data-challenge/test.csv', dtype={\n",
    "    'user_id': np.int16,\n",
    "    'work_id': np.int16\n",
    "})\n",
    "#test['prob_willsee'] = (pgbdt*0.804944+prf*0.802744)/(0.802744+0.804944)\n",
    "test['prob_willsee'] = Y"
   ]
  },
  {
   "cell_type": "code",
   "execution_count": 6,
   "metadata": {
    "collapsed": true
   },
   "outputs": [],
   "source": [
    "pgbdt=Y"
   ]
  },
  {
   "cell_type": "code",
   "execution_count": 3,
   "metadata": {
    "collapsed": true
   },
   "outputs": [],
   "source": [
    "prf=Y"
   ]
  },
  {
   "cell_type": "code",
   "execution_count": 9,
   "metadata": {},
   "outputs": [],
   "source": [
    "test.to_csv(\"/mnt/d/Data/mangaki-data-challenge/result_09_23_01.csv\", index=False)"
   ]
  },
  {
   "cell_type": "code",
   "execution_count": 6,
   "metadata": {},
   "outputs": [
    {
     "data": {
      "text/plain": [
       "array([ 0.38613072,  0.64494659,  0.27980584, ...,  0.71005751,\n",
       "        0.88667852,  0.27980584])"
      ]
     },
     "execution_count": 6,
     "metadata": {},
     "output_type": "execute_result"
    }
   ],
   "source": [
    "Y"
   ]
  },
  {
   "cell_type": "code",
   "execution_count": 9,
   "metadata": {
    "collapsed": true
   },
   "outputs": [],
   "source": [
    "pt = pd.read_csv(data+\"../libfm/test_result.csv\", header=None, names=['prob_willsee'])"
   ]
  },
  {
   "cell_type": "code",
   "execution_count": 11,
   "metadata": {
    "collapsed": true
   },
   "outputs": [],
   "source": [
    "test['prob_willsee']=pt"
   ]
  },
  {
   "cell_type": "code",
   "execution_count": 16,
   "metadata": {},
   "outputs": [
    {
     "data": {
      "text/plain": [
       "92698"
      ]
     },
     "execution_count": 16,
     "metadata": {},
     "output_type": "execute_result"
    }
   ],
   "source": [
    "(fm.predict_proba(test)>0.99).sum()"
   ]
  },
  {
   "cell_type": "code",
   "execution_count": 20,
   "metadata": {},
   "outputs": [
    {
     "data": {
      "text/plain": [
       "array([ 0.,  0.,  0., ...,  0.,  0.,  0.])"
      ]
     },
     "execution_count": 20,
     "metadata": {},
     "output_type": "execute_result"
    }
   ],
   "source": [
    "_"
   ]
  },
  {
   "cell_type": "code",
   "execution_count": 30,
   "metadata": {},
   "outputs": [
    {
     "data": {
      "text/plain": [
       "<11112x11891 sparse matrix of type '<class 'numpy.float64'>'\n",
       "\twith 146128 stored elements in Compressed Sparse Row format>"
      ]
     },
     "execution_count": 30,
     "metadata": {},
     "output_type": "execute_result"
    }
   ],
   "source": [
    "train"
   ]
  },
  {
   "cell_type": "code",
   "execution_count": 31,
   "metadata": {},
   "outputs": [
    {
     "data": {
      "text/plain": [
       "<100015x11892 sparse matrix of type '<class 'numpy.float64'>'\n",
       "\twith 1315262 stored elements in Compressed Sparse Row format>"
      ]
     },
     "execution_count": 31,
     "metadata": {},
     "output_type": "execute_result"
    }
   ],
   "source": [
    "test"
   ]
  },
  {
   "cell_type": "code",
   "execution_count": 23,
   "metadata": {},
   "outputs": [
    {
     "data": {
      "text/plain": [
       "array([ 1.        ,  1.        ,  0.72826087,  0.15217391,  2.60869565,\n",
       "        0.17366651,  0.27941176,  0.2254902 ,  0.00980392,  0.48529412,\n",
       "        1.96568627,  0.18466436])"
      ]
     },
     "execution_count": 23,
     "metadata": {},
     "output_type": "execute_result"
    }
   ],
   "source": [
    "test[0,:].data"
   ]
  },
  {
   "cell_type": "code",
   "execution_count": 28,
   "metadata": {},
   "outputs": [
    {
     "data": {
      "text/plain": [
       "array([ 0, 12], dtype=int32)"
      ]
     },
     "execution_count": 28,
     "metadata": {},
     "output_type": "execute_result"
    }
   ],
   "source": [
    "test[0,:].indptr"
   ]
  },
  {
   "cell_type": "code",
   "execution_count": 25,
   "metadata": {},
   "outputs": [
    {
     "data": {
      "text/plain": [
       "array([ 1.        ,  1.        ,  0.39189189,  0.39189189,  0.04054054,\n",
       "        0.17567568,  0.52027027,  0.97582781,  0.07478632,  0.70299145,\n",
       "        0.04273504,  0.17948718,  0.6784188 ,  0.66357103])"
      ]
     },
     "execution_count": 25,
     "metadata": {},
     "output_type": "execute_result"
    }
   ],
   "source": [
    "train[0, :].data"
   ]
  },
  {
   "cell_type": "code",
   "execution_count": null,
   "metadata": {
    "collapsed": true
   },
   "outputs": [],
   "source": []
  }
 ],
 "metadata": {
  "kernelspec": {
   "display_name": "Python 3",
   "language": "python",
   "name": "python3"
  },
  "language_info": {
   "codemirror_mode": {
    "name": "ipython",
    "version": 3
   },
   "file_extension": ".py",
   "mimetype": "text/x-python",
   "name": "python",
   "nbconvert_exporter": "python",
   "pygments_lexer": "ipython3",
   "version": "3.5.2"
  }
 },
 "nbformat": 4,
 "nbformat_minor": 2
}
