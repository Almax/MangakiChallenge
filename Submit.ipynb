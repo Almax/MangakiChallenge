{
 "cells": [
  {
   "cell_type": "code",
   "execution_count": 11,
   "metadata": {
    "collapsed": true
   },
   "outputs": [],
   "source": [
    "import lightgbm as lgb\n",
    "from sklearn.metrics import roc_auc_score\n",
    "import pandas as pd\n",
    "import numpy as np\n",
    "\n",
    "data = \"/mnt/d/Data/mangaki-data-challenge/latest/\"\n",
    "train = pd.read_csv(data+'train_0.csv')\n",
    "test = pd.read_csv(data+'test_0.csv')\n",
    "\n",
    "params = {\n",
    "    'task': 'train',\n",
    "    'boosting_type': 'rf',\n",
    "    'objective': 'binary',\n",
    "    'metric': {'auc'},\n",
    "    'num_leaves': 500,\n",
    "    'min_data_in_leaf': 1,\n",
    "    'feature_fraction': 0.25,\n",
    "    'bagging_fraction': 0.9,\n",
    "    'bagging_freq': 1,\n",
    "    'verbose': 0\n",
    "}"
   ]
  },
  {
   "cell_type": "code",
   "execution_count": 12,
   "metadata": {
    "collapsed": true
   },
   "outputs": [],
   "source": [
    "params = {\n",
    "    'task': 'train',\n",
    "    'boosting_type': 'gbdt',\n",
    "    'objective': 'binary',\n",
    "    'metric': {'auc'},\n",
    "    'num_leaves': 60,\n",
    "    'min_data_in_leaf': 40,\n",
    "    'feature_fraction': 0.6,\n",
    "    'bagging_fraction': 0.96,\n",
    "    'bagging_freq': 1,\n",
    "    'verbose': 0\n",
    "}"
   ]
  },
  {
   "cell_type": "code",
   "execution_count": 13,
   "metadata": {},
   "outputs": [
    {
     "name": "stdout",
     "output_type": "stream",
     "text": [
      "[1]\ttraining's auc: 0.770444\n",
      "[2]\ttraining's auc: 0.794781\n",
      "[3]\ttraining's auc: 0.813593\n",
      "[4]\ttraining's auc: 0.821139\n",
      "[5]\ttraining's auc: 0.828562\n",
      "[6]\ttraining's auc: 0.832603\n",
      "[7]\ttraining's auc: 0.835259\n",
      "[8]\ttraining's auc: 0.839487\n",
      "[9]\ttraining's auc: 0.844166\n",
      "[10]\ttraining's auc: 0.848576\n",
      "[11]\ttraining's auc: 0.852729\n",
      "[12]\ttraining's auc: 0.855185\n",
      "[13]\ttraining's auc: 0.858721\n",
      "[14]\ttraining's auc: 0.86219\n",
      "[15]\ttraining's auc: 0.865182\n",
      "[16]\ttraining's auc: 0.867852\n",
      "[17]\ttraining's auc: 0.870953\n",
      "[18]\ttraining's auc: 0.87338\n",
      "[19]\ttraining's auc: 0.875783\n",
      "[20]\ttraining's auc: 0.879067\n",
      "[21]\ttraining's auc: 0.882147\n",
      "[22]\ttraining's auc: 0.884398\n",
      "[23]\ttraining's auc: 0.886941\n",
      "[24]\ttraining's auc: 0.889403\n",
      "[25]\ttraining's auc: 0.892012\n",
      "[26]\ttraining's auc: 0.894232\n",
      "[27]\ttraining's auc: 0.896782\n",
      "[28]\ttraining's auc: 0.89923\n",
      "[29]\ttraining's auc: 0.901139\n",
      "[30]\ttraining's auc: 0.902951\n",
      "[31]\ttraining's auc: 0.905253\n",
      "[32]\ttraining's auc: 0.907121\n",
      "[33]\ttraining's auc: 0.909141\n",
      "[34]\ttraining's auc: 0.910676\n",
      "[35]\ttraining's auc: 0.912688\n",
      "[36]\ttraining's auc: 0.914539\n",
      "[37]\ttraining's auc: 0.916462\n",
      "[38]\ttraining's auc: 0.918743\n",
      "[39]\ttraining's auc: 0.9205\n",
      "[40]\ttraining's auc: 0.922671\n",
      "[41]\ttraining's auc: 0.924239\n",
      "[42]\ttraining's auc: 0.925845\n",
      "[43]\ttraining's auc: 0.927633\n",
      "[44]\ttraining's auc: 0.929258\n",
      "[45]\ttraining's auc: 0.930822\n",
      "[46]\ttraining's auc: 0.932225\n",
      "[47]\ttraining's auc: 0.933689\n",
      "[48]\ttraining's auc: 0.935232\n",
      "[49]\ttraining's auc: 0.936739\n",
      "[50]\ttraining's auc: 0.938246\n",
      "[51]\ttraining's auc: 0.939823\n",
      "[52]\ttraining's auc: 0.941142\n",
      "[53]\ttraining's auc: 0.942729\n",
      "[54]\ttraining's auc: 0.944004\n",
      "[55]\ttraining's auc: 0.945359\n",
      "[56]\ttraining's auc: 0.94649\n",
      "[57]\ttraining's auc: 0.947606\n",
      "[58]\ttraining's auc: 0.949145\n",
      "[59]\ttraining's auc: 0.950145\n",
      "[60]\ttraining's auc: 0.951066\n",
      "[61]\ttraining's auc: 0.952262\n",
      "[62]\ttraining's auc: 0.953528\n",
      "[63]\ttraining's auc: 0.954554\n"
     ]
    }
   ],
   "source": [
    "X = lgb.Dataset(train.drop(['user_id', 'work_id', 'rating'], axis=1), train['rating'])\n",
    "gbdt = lgb.train(params, X, num_boost_round=63, valid_sets=[X], verbose_eval=True)\n",
    "Y = gbdt.predict(test.drop(['user_id', 'work_id'], axis=1))"
   ]
  },
  {
   "cell_type": "code",
   "execution_count": 15,
   "metadata": {
    "collapsed": true
   },
   "outputs": [],
   "source": [
    "test = pd.read_csv(data+'../test.csv', dtype={\n",
    "    'user_id': np.int16,\n",
    "    'work_id': np.int16\n",
    "})\n",
    "#test['prob_willsee'] = (pgbdt*0.804944+prf*0.802744)/(0.802744+0.804944)\n",
    "test['prob_willsee'] = Y"
   ]
  },
  {
   "cell_type": "code",
   "execution_count": 6,
   "metadata": {
    "collapsed": true
   },
   "outputs": [],
   "source": [
    "pgbdt=Y"
   ]
  },
  {
   "cell_type": "code",
   "execution_count": 3,
   "metadata": {
    "collapsed": true
   },
   "outputs": [],
   "source": [
    "prf=Y"
   ]
  },
  {
   "cell_type": "code",
   "execution_count": 18,
   "metadata": {},
   "outputs": [],
   "source": [
    "test.to_csv(data+\"../result_09_03_02.csv\", index=False)"
   ]
  },
  {
   "cell_type": "code",
   "execution_count": 19,
   "metadata": {},
   "outputs": [
    {
     "data": {
      "text/plain": [
       "array([ 0.33862965,  0.80702494,  0.32359304, ...,  0.618949  ,\n",
       "        0.87471697,  0.2964215 ])"
      ]
     },
     "execution_count": 19,
     "metadata": {},
     "output_type": "execute_result"
    }
   ],
   "source": [
    "Y"
   ]
  },
  {
   "cell_type": "code",
   "execution_count": null,
   "metadata": {
    "collapsed": true
   },
   "outputs": [],
   "source": []
  }
 ],
 "metadata": {
  "kernelspec": {
   "display_name": "Python 3",
   "language": "python",
   "name": "python3"
  },
  "language_info": {
   "codemirror_mode": {
    "name": "ipython",
    "version": 3
   },
   "file_extension": ".py",
   "mimetype": "text/x-python",
   "name": "python",
   "nbconvert_exporter": "python",
   "pygments_lexer": "ipython3",
   "version": "3.5.2"
  }
 },
 "nbformat": 4,
 "nbformat_minor": 2
}
