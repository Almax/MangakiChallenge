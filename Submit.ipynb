{
 "cells": [
  {
   "cell_type": "code",
   "execution_count": 2,
   "metadata": {
    "collapsed": true
   },
   "outputs": [],
   "source": [
    "import lightgbm as lgb\n",
    "from sklearn.metrics import roc_auc_score\n",
    "import pandas as pd\n",
    "import numpy as np\n",
    "\n",
    "data = \"/mnt/d/Data/mangaki-data-challenge/latest/\"\n",
    "train = pd.read_csv(data+'train_0.csv')\n",
    "test = pd.read_csv(data+'test_0.csv')\n",
    "\n",
    "params = {\n",
    "    'task': 'train',\n",
    "    'boosting_type': 'rf',\n",
    "    'objective': 'binary',\n",
    "    'metric': {'auc'},\n",
    "    'num_leaves': 400,\n",
    "    'min_data_in_leaf': 2,\n",
    "    'feature_fraction': 0.3,\n",
    "    'bagging_fraction': 0.7,\n",
    "    'bagging_freq': 1,\n",
    "    'lambda_l1': 0,\n",
    "    'min_gain_to_split': 0,\n",
    "    'verbose': 0\n",
    "}"
   ]
  },
  {
   "cell_type": "code",
   "execution_count": 3,
   "metadata": {
    "collapsed": true
   },
   "outputs": [],
   "source": [
    "params = {\n",
    "    'task': 'train',\n",
    "    'boosting_type': 'gbdt',\n",
    "    'objective': 'binary',\n",
    "    'metric': {'auc'},\n",
    "    'num_leaves': 60,\n",
    "    'min_data_in_leaf': 20,\n",
    "    'feature_fraction': 0.6,\n",
    "    'bagging_fraction': 0.96,\n",
    "    'bagging_freq': 1,\n",
    "    'lambda_l1': 0,\n",
    "    'verbose': 0\n",
    "}"
   ]
  },
  {
   "cell_type": "code",
   "execution_count": 4,
   "metadata": {
    "scrolled": true
   },
   "outputs": [
    {
     "name": "stdout",
     "output_type": "stream",
     "text": [
      "[1]\ttraining's auc: 0.767213\n",
      "[2]\ttraining's auc: 0.800251\n",
      "[3]\ttraining's auc: 0.819712\n",
      "[4]\ttraining's auc: 0.826599\n",
      "[5]\ttraining's auc: 0.832891\n",
      "[6]\ttraining's auc: 0.837548\n",
      "[7]\ttraining's auc: 0.840133\n",
      "[8]\ttraining's auc: 0.843249\n",
      "[9]\ttraining's auc: 0.846065\n",
      "[10]\ttraining's auc: 0.851951\n",
      "[11]\ttraining's auc: 0.856304\n",
      "[12]\ttraining's auc: 0.85964\n",
      "[13]\ttraining's auc: 0.86396\n",
      "[14]\ttraining's auc: 0.867173\n",
      "[15]\ttraining's auc: 0.870403\n",
      "[16]\ttraining's auc: 0.874864\n",
      "[17]\ttraining's auc: 0.877586\n",
      "[18]\ttraining's auc: 0.880673\n",
      "[19]\ttraining's auc: 0.883088\n",
      "[20]\ttraining's auc: 0.885526\n",
      "[21]\ttraining's auc: 0.888528\n",
      "[22]\ttraining's auc: 0.890986\n",
      "[23]\ttraining's auc: 0.89403\n",
      "[24]\ttraining's auc: 0.896102\n",
      "[25]\ttraining's auc: 0.898393\n",
      "[26]\ttraining's auc: 0.90092\n",
      "[27]\ttraining's auc: 0.902654\n",
      "[28]\ttraining's auc: 0.905849\n",
      "[29]\ttraining's auc: 0.908222\n",
      "[30]\ttraining's auc: 0.911177\n",
      "[31]\ttraining's auc: 0.913518\n",
      "[32]\ttraining's auc: 0.915644\n",
      "[33]\ttraining's auc: 0.918005\n",
      "[34]\ttraining's auc: 0.920092\n",
      "[35]\ttraining's auc: 0.922543\n",
      "[36]\ttraining's auc: 0.9245\n",
      "[37]\ttraining's auc: 0.926848\n",
      "[38]\ttraining's auc: 0.928603\n",
      "[39]\ttraining's auc: 0.930755\n",
      "[40]\ttraining's auc: 0.932522\n",
      "[41]\ttraining's auc: 0.934175\n",
      "[42]\ttraining's auc: 0.935507\n",
      "[43]\ttraining's auc: 0.937203\n",
      "[44]\ttraining's auc: 0.938692\n",
      "[45]\ttraining's auc: 0.940298\n",
      "[46]\ttraining's auc: 0.941604\n",
      "[47]\ttraining's auc: 0.94314\n",
      "[48]\ttraining's auc: 0.944611\n",
      "[49]\ttraining's auc: 0.94599\n",
      "[50]\ttraining's auc: 0.947605\n",
      "[51]\ttraining's auc: 0.948744\n",
      "[52]\ttraining's auc: 0.950348\n",
      "[53]\ttraining's auc: 0.951516\n",
      "[54]\ttraining's auc: 0.952582\n",
      "[55]\ttraining's auc: 0.953543\n",
      "[56]\ttraining's auc: 0.954756\n",
      "[57]\ttraining's auc: 0.955853\n",
      "[58]\ttraining's auc: 0.957025\n",
      "[59]\ttraining's auc: 0.958158\n",
      "[60]\ttraining's auc: 0.959401\n",
      "[61]\ttraining's auc: 0.960349\n",
      "[62]\ttraining's auc: 0.961383\n",
      "[63]\ttraining's auc: 0.962487\n",
      "[64]\ttraining's auc: 0.963318\n",
      "[65]\ttraining's auc: 0.964584\n",
      "[66]\ttraining's auc: 0.965324\n",
      "[67]\ttraining's auc: 0.966145\n",
      "[68]\ttraining's auc: 0.967092\n",
      "[69]\ttraining's auc: 0.967759\n",
      "[70]\ttraining's auc: 0.968673\n",
      "[71]\ttraining's auc: 0.969686\n",
      "[72]\ttraining's auc: 0.970603\n",
      "[73]\ttraining's auc: 0.971332\n",
      "[74]\ttraining's auc: 0.972043\n",
      "[75]\ttraining's auc: 0.972773\n",
      "[76]\ttraining's auc: 0.973495\n",
      "[77]\ttraining's auc: 0.97441\n",
      "[78]\ttraining's auc: 0.975261\n",
      "[79]\ttraining's auc: 0.97605\n",
      "[80]\ttraining's auc: 0.976666\n",
      "[81]\ttraining's auc: 0.977307\n",
      "[82]\ttraining's auc: 0.977955\n",
      "[83]\ttraining's auc: 0.978755\n",
      "[84]\ttraining's auc: 0.979449\n",
      "[85]\ttraining's auc: 0.980126\n",
      "[86]\ttraining's auc: 0.980781\n",
      "[87]\ttraining's auc: 0.981156\n",
      "[88]\ttraining's auc: 0.981611\n",
      "[89]\ttraining's auc: 0.98222\n",
      "[90]\ttraining's auc: 0.982644\n",
      "[91]\ttraining's auc: 0.983329\n",
      "[92]\ttraining's auc: 0.983954\n",
      "[93]\ttraining's auc: 0.98439\n",
      "[94]\ttraining's auc: 0.984833\n",
      "[95]\ttraining's auc: 0.985214\n",
      "[96]\ttraining's auc: 0.98552\n",
      "[97]\ttraining's auc: 0.986008\n",
      "[98]\ttraining's auc: 0.986461\n",
      "[99]\ttraining's auc: 0.98695\n",
      "[100]\ttraining's auc: 0.987465\n"
     ]
    }
   ],
   "source": [
    "X = lgb.Dataset(train.drop(['user_id', 'work_id', 'rating'], axis=1), train['rating'])\n",
    "gbdt = lgb.train(params, X, num_boost_round=100, valid_sets=[X], verbose_eval=True)\n",
    "Y = gbdt.predict(test.drop(['user_id', 'work_id'], axis=1))"
   ]
  },
  {
   "cell_type": "code",
   "execution_count": 5,
   "metadata": {
    "collapsed": true
   },
   "outputs": [],
   "source": [
    "test = pd.read_csv(data+'../test.csv', dtype={\n",
    "    'user_id': np.int16,\n",
    "    'work_id': np.int16\n",
    "})\n",
    "#test['prob_willsee'] = (pgbdt*0.804944+prf*0.802744)/(0.802744+0.804944)\n",
    "test['prob_willsee'] = Y"
   ]
  },
  {
   "cell_type": "code",
   "execution_count": 6,
   "metadata": {
    "collapsed": true
   },
   "outputs": [],
   "source": [
    "pgbdt=Y"
   ]
  },
  {
   "cell_type": "code",
   "execution_count": 3,
   "metadata": {
    "collapsed": true
   },
   "outputs": [],
   "source": [
    "prf=Y"
   ]
  },
  {
   "cell_type": "code",
   "execution_count": 6,
   "metadata": {
    "collapsed": true
   },
   "outputs": [],
   "source": [
    "test.to_csv(data+\"../result_09_04_03.csv\", index=False)"
   ]
  },
  {
   "cell_type": "code",
   "execution_count": 19,
   "metadata": {},
   "outputs": [
    {
     "data": {
      "text/plain": [
       "array([ 0.33862965,  0.80702494,  0.32359304, ...,  0.618949  ,\n",
       "        0.87471697,  0.2964215 ])"
      ]
     },
     "execution_count": 19,
     "metadata": {},
     "output_type": "execute_result"
    }
   ],
   "source": [
    "Y"
   ]
  },
  {
   "cell_type": "code",
   "execution_count": 9,
   "metadata": {
    "collapsed": true
   },
   "outputs": [],
   "source": [
    "pt = pd.read_csv(data+\"../libfm/test_result.csv\", header=None, names=['prob_willsee'])"
   ]
  },
  {
   "cell_type": "code",
   "execution_count": 11,
   "metadata": {
    "collapsed": true
   },
   "outputs": [],
   "source": [
    "test['prob_willsee']=pt"
   ]
  },
  {
   "cell_type": "code",
   "execution_count": null,
   "metadata": {
    "collapsed": true
   },
   "outputs": [],
   "source": []
  }
 ],
 "metadata": {
  "kernelspec": {
   "display_name": "Python 3",
   "language": "python",
   "name": "python3"
  },
  "language_info": {
   "codemirror_mode": {
    "name": "ipython",
    "version": 3
   },
   "file_extension": ".py",
   "mimetype": "text/x-python",
   "name": "python",
   "nbconvert_exporter": "python",
   "pygments_lexer": "ipython3",
   "version": "3.5.2"
  }
 },
 "nbformat": 4,
 "nbformat_minor": 2
}
