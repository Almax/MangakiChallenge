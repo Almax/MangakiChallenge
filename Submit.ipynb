{
 "cells": [
  {
   "cell_type": "code",
   "execution_count": 2,
   "metadata": {
    "collapsed": true
   },
   "outputs": [],
   "source": [
    "import lightgbm as lgb\n",
    "from sklearn.metrics import roc_auc_score\n",
    "import pandas as pd\n",
    "import numpy as np\n",
    "\n",
    "data = \"/mnt/d/Data/mangaki-data-challenge/latest/\"\n",
    "train = pd.read_csv(data+'train_0.csv')\n",
    "test = pd.read_csv(data+'test_0.csv')\n",
    "\n",
    "params = {\n",
    "    'task': 'train',\n",
    "    'boosting_type': 'rf',\n",
    "    'objective': 'binary',\n",
    "    'metric': {'auc'},\n",
    "    'num_leaves': 450,\n",
    "    'min_data_in_leaf': 8,\n",
    "    'feature_fraction': 0.6,\n",
    "    'bagging_fraction': 0.8,\n",
    "    'bagging_freq': 1,\n",
    "    'lambda_l1': 0,\n",
    "    'min_gain_to_split': 0,\n",
    "    'verbose': 0\n",
    "}"
   ]
  },
  {
   "cell_type": "code",
   "execution_count": 3,
   "metadata": {
    "collapsed": true
   },
   "outputs": [],
   "source": [
    "params = {\n",
    "    'task': 'train',\n",
    "    'boosting_type': 'gbdt',\n",
    "    'objective': 'binary',\n",
    "    'metric': {'auc'},\n",
    "    'num_leaves': 60,\n",
    "    'min_data_in_leaf': 20,\n",
    "    'feature_fraction': 0.6,\n",
    "    'bagging_fraction': 0.96,\n",
    "    'bagging_freq': 1,\n",
    "    'lambda_l1': 0,\n",
    "    'verbose': 0\n",
    "}"
   ]
  },
  {
   "cell_type": "code",
   "execution_count": 41,
   "metadata": {
    "scrolled": true
   },
   "outputs": [
    {
     "name": "stdout",
     "output_type": "stream",
     "text": [
      "[1]\ttraining's auc: 0.88206\n",
      "[2]\ttraining's auc: 0.92841\n",
      "[3]\ttraining's auc: 0.945851\n",
      "[4]\ttraining's auc: 0.954874\n",
      "[5]\ttraining's auc: 0.960132\n",
      "[6]\ttraining's auc: 0.963753\n",
      "[7]\ttraining's auc: 0.966922\n",
      "[8]\ttraining's auc: 0.968675\n",
      "[9]\ttraining's auc: 0.970383\n",
      "[10]\ttraining's auc: 0.972068\n",
      "[11]\ttraining's auc: 0.972987\n",
      "[12]\ttraining's auc: 0.973639\n",
      "[13]\ttraining's auc: 0.973987\n",
      "[14]\ttraining's auc: 0.974891\n",
      "[15]\ttraining's auc: 0.975568\n",
      "[16]\ttraining's auc: 0.976042\n",
      "[17]\ttraining's auc: 0.976396\n",
      "[18]\ttraining's auc: 0.97656\n",
      "[19]\ttraining's auc: 0.976972\n",
      "[20]\ttraining's auc: 0.97738\n",
      "[21]\ttraining's auc: 0.977629\n",
      "[22]\ttraining's auc: 0.97795\n",
      "[23]\ttraining's auc: 0.978309\n",
      "[24]\ttraining's auc: 0.978452\n",
      "[25]\ttraining's auc: 0.978625\n",
      "[26]\ttraining's auc: 0.978663\n",
      "[27]\ttraining's auc: 0.978639\n",
      "[28]\ttraining's auc: 0.978682\n",
      "[29]\ttraining's auc: 0.979046\n",
      "[30]\ttraining's auc: 0.979052\n",
      "[31]\ttraining's auc: 0.979018\n",
      "[32]\ttraining's auc: 0.979182\n",
      "[33]\ttraining's auc: 0.97926\n",
      "[34]\ttraining's auc: 0.979345\n",
      "[35]\ttraining's auc: 0.979534\n",
      "[36]\ttraining's auc: 0.979498\n",
      "[37]\ttraining's auc: 0.979598\n",
      "[38]\ttraining's auc: 0.979727\n",
      "[39]\ttraining's auc: 0.979905\n",
      "[40]\ttraining's auc: 0.979927\n",
      "[41]\ttraining's auc: 0.979927\n",
      "[42]\ttraining's auc: 0.979956\n",
      "[43]\ttraining's auc: 0.979977\n",
      "[44]\ttraining's auc: 0.979963\n",
      "[45]\ttraining's auc: 0.979979\n",
      "[46]\ttraining's auc: 0.980021\n",
      "[47]\ttraining's auc: 0.979991\n",
      "[48]\ttraining's auc: 0.980028\n",
      "[49]\ttraining's auc: 0.980133\n",
      "[50]\ttraining's auc: 0.9802\n",
      "[51]\ttraining's auc: 0.980254\n",
      "[52]\ttraining's auc: 0.980231\n",
      "[53]\ttraining's auc: 0.980177\n",
      "[54]\ttraining's auc: 0.980242\n",
      "[55]\ttraining's auc: 0.98031\n",
      "[56]\ttraining's auc: 0.980243\n",
      "[57]\ttraining's auc: 0.980354\n",
      "[58]\ttraining's auc: 0.980475\n",
      "[59]\ttraining's auc: 0.980546\n",
      "[60]\ttraining's auc: 0.980645\n",
      "[61]\ttraining's auc: 0.980723\n",
      "[62]\ttraining's auc: 0.980713\n",
      "[63]\ttraining's auc: 0.980846\n",
      "[64]\ttraining's auc: 0.980876\n",
      "[65]\ttraining's auc: 0.980951\n",
      "[66]\ttraining's auc: 0.980992\n",
      "[67]\ttraining's auc: 0.980986\n",
      "[68]\ttraining's auc: 0.981038\n",
      "[69]\ttraining's auc: 0.980986\n",
      "[70]\ttraining's auc: 0.981047\n",
      "[71]\ttraining's auc: 0.981054\n",
      "[72]\ttraining's auc: 0.981136\n",
      "[73]\ttraining's auc: 0.981187\n",
      "[74]\ttraining's auc: 0.981222\n",
      "[75]\ttraining's auc: 0.981274\n",
      "[76]\ttraining's auc: 0.981341\n",
      "[77]\ttraining's auc: 0.981337\n",
      "[78]\ttraining's auc: 0.981392\n",
      "[79]\ttraining's auc: 0.981367\n",
      "[80]\ttraining's auc: 0.981332\n",
      "[81]\ttraining's auc: 0.981331\n",
      "[82]\ttraining's auc: 0.98133\n",
      "[83]\ttraining's auc: 0.98133\n",
      "[84]\ttraining's auc: 0.98134\n",
      "[85]\ttraining's auc: 0.98141\n",
      "[86]\ttraining's auc: 0.981419\n",
      "[87]\ttraining's auc: 0.981434\n",
      "[88]\ttraining's auc: 0.981474\n",
      "[89]\ttraining's auc: 0.981529\n",
      "[90]\ttraining's auc: 0.981489\n",
      "[91]\ttraining's auc: 0.981513\n",
      "[92]\ttraining's auc: 0.981535\n",
      "[93]\ttraining's auc: 0.981544\n",
      "[94]\ttraining's auc: 0.98156\n",
      "[95]\ttraining's auc: 0.981567\n",
      "[96]\ttraining's auc: 0.981548\n",
      "[97]\ttraining's auc: 0.981629\n",
      "[98]\ttraining's auc: 0.981646\n",
      "[99]\ttraining's auc: 0.981638\n",
      "[100]\ttraining's auc: 0.981645\n",
      "[101]\ttraining's auc: 0.981631\n",
      "[102]\ttraining's auc: 0.981683\n",
      "[103]\ttraining's auc: 0.981715\n",
      "[104]\ttraining's auc: 0.981705\n",
      "[105]\ttraining's auc: 0.981697\n",
      "[106]\ttraining's auc: 0.981728\n",
      "[107]\ttraining's auc: 0.981729\n",
      "[108]\ttraining's auc: 0.981741\n",
      "[109]\ttraining's auc: 0.981733\n",
      "[110]\ttraining's auc: 0.981729\n",
      "[111]\ttraining's auc: 0.981784\n",
      "[112]\ttraining's auc: 0.981742\n",
      "[113]\ttraining's auc: 0.981724\n",
      "[114]\ttraining's auc: 0.981719\n"
     ]
    }
   ],
   "source": [
    "X = lgb.Dataset(train.drop(['user_id', 'work_id', 'rating'], axis=1), train['rating'])\n",
    "gbdt = lgb.train(params, X, num_boost_round=114, valid_sets=[X], verbose_eval=True)\n",
    "Y = gbdt.predict(test.drop(['user_id', 'work_id'], axis=1))"
   ]
  },
  {
   "cell_type": "code",
   "execution_count": 3,
   "metadata": {},
   "outputs": [],
   "source": [
    "# fm training\n",
    "from scipy.sparse import hstack\n",
    "from fastFM import sgd\n",
    "from sklearn.metrics import roc_auc_score\n",
    "from sklearn.datasets import load_svmlight_file\n",
    "\n",
    "path = \"/mnt/d/Data/mangaki-data-challenge/libfm/\"\n",
    "\n",
    "params = {\n",
    "    'n_iter':300000, \n",
    "    'init_stdev':0.01,\n",
    "    'l2_reg_w':0.0001,\n",
    "    'l2_reg_V':0.5,\n",
    "    'rank':1,\n",
    "    'step_size':0.02\n",
    "}\n",
    "\n",
    "train, ty = load_svmlight_file(path+\"train_0.csv\", zero_based=True)\n",
    "test, _ = load_svmlight_file(path+\"test_0.csv\")\n",
    "fm = sgd.FMClassification(**params)\n",
    "fm.fit(train, np.require(ty*2-1, dtype=np.int))\n",
    "Y = fm.predict_proba(test)"
   ]
  },
  {
   "cell_type": "code",
   "execution_count": 4,
   "metadata": {
    "collapsed": true
   },
   "outputs": [],
   "source": [
    "test = pd.read_csv(data+'../test.csv', dtype={\n",
    "    'user_id': np.int16,\n",
    "    'work_id': np.int16\n",
    "})\n",
    "#test['prob_willsee'] = (pgbdt*0.804944+prf*0.802744)/(0.802744+0.804944)\n",
    "test['prob_willsee'] = Y"
   ]
  },
  {
   "cell_type": "code",
   "execution_count": 6,
   "metadata": {
    "collapsed": true
   },
   "outputs": [],
   "source": [
    "pgbdt=Y"
   ]
  },
  {
   "cell_type": "code",
   "execution_count": 3,
   "metadata": {
    "collapsed": true
   },
   "outputs": [],
   "source": [
    "prf=Y"
   ]
  },
  {
   "cell_type": "code",
   "execution_count": 5,
   "metadata": {
    "collapsed": true
   },
   "outputs": [],
   "source": [
    "test.to_csv(data+\"../result_09_09_01.csv\", index=False)"
   ]
  },
  {
   "cell_type": "code",
   "execution_count": 6,
   "metadata": {},
   "outputs": [
    {
     "data": {
      "text/plain": [
       "array([ 0.52537033,  0.8443301 ,  0.11685787, ...,  0.69170939,\n",
       "        0.98158394,  0.31227997])"
      ]
     },
     "execution_count": 6,
     "metadata": {},
     "output_type": "execute_result"
    }
   ],
   "source": [
    "Y"
   ]
  },
  {
   "cell_type": "code",
   "execution_count": 9,
   "metadata": {
    "collapsed": true
   },
   "outputs": [],
   "source": [
    "pt = pd.read_csv(data+\"../libfm/test_result.csv\", header=None, names=['prob_willsee'])"
   ]
  },
  {
   "cell_type": "code",
   "execution_count": 11,
   "metadata": {
    "collapsed": true
   },
   "outputs": [],
   "source": [
    "test['prob_willsee']=pt"
   ]
  },
  {
   "cell_type": "code",
   "execution_count": 16,
   "metadata": {},
   "outputs": [
    {
     "data": {
      "text/plain": [
       "92698"
      ]
     },
     "execution_count": 16,
     "metadata": {},
     "output_type": "execute_result"
    }
   ],
   "source": [
    "(fm.predict_proba(test)>0.99).sum()"
   ]
  },
  {
   "cell_type": "code",
   "execution_count": 20,
   "metadata": {},
   "outputs": [
    {
     "data": {
      "text/plain": [
       "array([ 0.,  0.,  0., ...,  0.,  0.,  0.])"
      ]
     },
     "execution_count": 20,
     "metadata": {},
     "output_type": "execute_result"
    }
   ],
   "source": [
    "_"
   ]
  },
  {
   "cell_type": "code",
   "execution_count": 30,
   "metadata": {},
   "outputs": [
    {
     "data": {
      "text/plain": [
       "<11112x11891 sparse matrix of type '<class 'numpy.float64'>'\n",
       "\twith 146128 stored elements in Compressed Sparse Row format>"
      ]
     },
     "execution_count": 30,
     "metadata": {},
     "output_type": "execute_result"
    }
   ],
   "source": [
    "train"
   ]
  },
  {
   "cell_type": "code",
   "execution_count": 31,
   "metadata": {},
   "outputs": [
    {
     "data": {
      "text/plain": [
       "<100015x11892 sparse matrix of type '<class 'numpy.float64'>'\n",
       "\twith 1315262 stored elements in Compressed Sparse Row format>"
      ]
     },
     "execution_count": 31,
     "metadata": {},
     "output_type": "execute_result"
    }
   ],
   "source": [
    "test"
   ]
  },
  {
   "cell_type": "code",
   "execution_count": 23,
   "metadata": {},
   "outputs": [
    {
     "data": {
      "text/plain": [
       "array([ 1.        ,  1.        ,  0.72826087,  0.15217391,  2.60869565,\n",
       "        0.17366651,  0.27941176,  0.2254902 ,  0.00980392,  0.48529412,\n",
       "        1.96568627,  0.18466436])"
      ]
     },
     "execution_count": 23,
     "metadata": {},
     "output_type": "execute_result"
    }
   ],
   "source": [
    "test[0,:].data"
   ]
  },
  {
   "cell_type": "code",
   "execution_count": 28,
   "metadata": {},
   "outputs": [
    {
     "data": {
      "text/plain": [
       "array([ 0, 12], dtype=int32)"
      ]
     },
     "execution_count": 28,
     "metadata": {},
     "output_type": "execute_result"
    }
   ],
   "source": [
    "test[0,:].indptr"
   ]
  },
  {
   "cell_type": "code",
   "execution_count": 25,
   "metadata": {},
   "outputs": [
    {
     "data": {
      "text/plain": [
       "array([ 1.        ,  1.        ,  0.39189189,  0.39189189,  0.04054054,\n",
       "        0.17567568,  0.52027027,  0.97582781,  0.07478632,  0.70299145,\n",
       "        0.04273504,  0.17948718,  0.6784188 ,  0.66357103])"
      ]
     },
     "execution_count": 25,
     "metadata": {},
     "output_type": "execute_result"
    }
   ],
   "source": [
    "train[0, :].data"
   ]
  },
  {
   "cell_type": "code",
   "execution_count": null,
   "metadata": {
    "collapsed": true
   },
   "outputs": [],
   "source": []
  }
 ],
 "metadata": {
  "kernelspec": {
   "display_name": "Python 3",
   "language": "python",
   "name": "python3"
  },
  "language_info": {
   "codemirror_mode": {
    "name": "ipython",
    "version": 3
   },
   "file_extension": ".py",
   "mimetype": "text/x-python",
   "name": "python",
   "nbconvert_exporter": "python",
   "pygments_lexer": "ipython3",
   "version": "3.5.2"
  }
 },
 "nbformat": 4,
 "nbformat_minor": 2
}
