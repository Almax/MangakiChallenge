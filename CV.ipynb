{
 "cells": [
  {
   "cell_type": "code",
   "execution_count": 7,
   "metadata": {},
   "outputs": [
    {
     "name": "stderr",
     "output_type": "stream",
     "text": [
      "/home/ike/.miniconda3/envs/intel/lib/python3.5/json/encoder.py:198: DeprecationWarning: Interpreting naive datetime as local 2017-09-29 07:47:55.171327. Please add timezone info to timestamps.\n",
      "  chunks = self.iterencode(o, _one_shot=True)\n"
     ]
    }
   ],
   "source": [
    "import lightgbm as lgb\n",
    "from sklearn.metrics import roc_auc_score\n",
    "import gc\n",
    "\n",
    "gc.enable()\n",
    "\n",
    "params = {\n",
    "    'task': 'train',\n",
    "    'boosting_type': 'gbdt',\n",
    "    'objective': 'binary',\n",
    "    'metric': {'auc'},\n",
    "    'num_leaves': 8,\n",
    "    'min_data_in_leaf': 3300,\n",
    "    'feature_fraction': 0.7,\n",
    "    'bagging_fraction': 0.97,\n",
    "    'bagging_freq': 1,\n",
    "    'lambda_l1': 0,\n",
    "    'verbose': 0\n",
    "}\n",
    "\n",
    "#params = {\n",
    "#    'task': 'train',\n",
    "#    'boosting_type': 'rf',\n",
    "#    'objective': 'binary',\n",
    "#    'metric': {'auc'},\n",
    "#    'num_leaves': 550,\n",
    "#    'min_data_in_leaf': 6,\n",
    "#    'feature_fraction': 0.55,\n",
    "#    'bagging_fraction': 0.8,\n",
    "#    'bagging_freq': 1,\n",
    "#    'lambda_l1': 0,\n",
    "#    'min_gain_to_split': 0,\n",
    "#    'verbose': 0\n",
    "#}"
   ]
  },
  {
   "cell_type": "code",
   "execution_count": 2,
   "metadata": {
    "collapsed": true
   },
   "outputs": [],
   "source": [
    "import pandas as pd\n",
    "import numpy as np\n",
    "\n",
    "data = \"/mnt/d/Data/mangaki-data-challenge/latest/\""
   ]
  },
  {
   "cell_type": "code",
   "execution_count": 18,
   "metadata": {
    "collapsed": true
   },
   "outputs": [],
   "source": [
    "# level1 param\n",
    "\n",
    "params = {\n",
    "    'task': 'train',\n",
    "    'boosting_type': 'gbdt',\n",
    "    'objective': 'binary',\n",
    "    'metric': {'auc'},\n",
    "    'num_leaves': 2,\n",
    "    'min_data_in_leaf': 400,\n",
    "    'feature_fraction': 1,\n",
    "    'bagging_fraction': 0.91,\n",
    "    'bagging_freq': 1,\n",
    "    'verbose': 0\n",
    "}"
   ]
  },
  {
   "cell_type": "code",
   "execution_count": 3,
   "metadata": {
    "collapsed": true
   },
   "outputs": [],
   "source": [
    "def training(train, valid):\n",
    "    X = lgb.Dataset(train.drop(['user_id', 'work_id', 'rating'], axis=1), train['rating'])\n",
    "    V = lgb.Dataset(valid.drop(['user_id', 'work_id', 'rating'], axis=1), valid['rating'], reference=X)\n",
    "    gbdt = lgb.train(params, X, valid_sets=[X,V], num_boost_round=200, early_stopping_rounds=20, verbose_eval=False)\n",
    "    Yvp = gbdt.predict(valid.drop(['user_id', 'work_id', 'rating'], axis=1), num_iteration=gbdt.best_iteration)\n",
    "    Ytp = gbdt.predict(train.drop(['user_id', 'work_id', 'rating'], axis=1), num_iteration=gbdt.best_iteration)\n",
    "    return (roc_auc_score(train['rating'].values, Ytp), roc_auc_score(valid['rating'].values, Yvp))"
   ]
  },
  {
   "cell_type": "code",
   "execution_count": 4,
   "metadata": {
    "collapsed": true
   },
   "outputs": [],
   "source": [
    "def cv(param, paramlst):\n",
    "    trainauc = [0.0]*len(paramlst)\n",
    "    validauc = [0.0]*len(paramlst)\n",
    "    for i, p in enumerate(paramlst):\n",
    "        params[param]=p\n",
    "        tv = [0,0,0]\n",
    "        vv = [0,0,0]\n",
    "        for fold in [1,2,3]:\n",
    "            t = pd.read_csv(data+'train_{0}.csv'.format(str(fold)))\n",
    "            v = pd.read_csv(data+'valid_{0}.csv'.format(str(fold)))\n",
    "            #t['item_category'] = t.item_category.astype('category')\n",
    "            #v['item_category'] = v.item_category.astype('category')\n",
    "            tv[fold-1], vv[fold-1] = training(t, v)\n",
    "        trainauc[i]=np.mean(tv)\n",
    "        validauc[i]=np.mean(vv)\n",
    "    paramtable = pd.DataFrame({\n",
    "        'TrainingSet': trainauc,\n",
    "        'ValidationSet': validauc\n",
    "    }, columns=['TrainingSet', 'ValidationSet'], index=pd.Index(paramlst, name=param))\n",
    "    print(paramtable)"
   ]
  },
  {
   "cell_type": "code",
   "execution_count": 8,
   "metadata": {},
   "outputs": [
    {
     "name": "stdout",
     "output_type": "stream",
     "text": [
      "            TrainingSet  ValidationSet\n",
      "num_leaves                            \n",
      "4              0.905893       0.756573\n",
      "8              0.905893       0.756573\n",
      "20             0.905893       0.756573\n",
      "40             0.905893       0.756573\n",
      "100            0.905893       0.756573\n"
     ]
    },
    {
     "name": "stderr",
     "output_type": "stream",
     "text": [
      "/home/ike/.miniconda3/envs/intel/lib/python3.5/json/encoder.py:198: DeprecationWarning: Interpreting naive datetime as local 2017-09-29 07:48:05.908150. Please add timezone info to timestamps.\n",
      "  chunks = self.iterencode(o, _one_shot=True)\n"
     ]
    }
   ],
   "source": [
    "cv('num_leaves', [4, 8, 20, 40, 100])"
   ]
  },
  {
   "cell_type": "markdown",
   "metadata": {},
   "source": [
    "LibFM"
   ]
  },
  {
   "cell_type": "code",
   "execution_count": 11,
   "metadata": {
    "collapsed": true
   },
   "outputs": [],
   "source": [
    "import pandas as pd\n",
    "import numpy as np\n",
    "from sklearn.metrics import roc_auc_score\n",
    "from sklearn.datasets import load_svmlight_file\n",
    "\n",
    "path = \"/mnt/d/Data/mangaki-data-challenge/libfm/\""
   ]
  },
  {
   "cell_type": "code",
   "execution_count": 25,
   "metadata": {
    "collapsed": true
   },
   "outputs": [],
   "source": [
    "params = {\n",
    "    'n_iter':340000, \n",
    "    'init_stdev':0.01,\n",
    "    'l2_reg_w':0.00025,\n",
    "    'l2_reg_V':0.5,\n",
    "    'rank':1,\n",
    "    'step_size':0.02\n",
    "}"
   ]
  },
  {
   "cell_type": "code",
   "execution_count": 13,
   "metadata": {
    "collapsed": true
   },
   "outputs": [],
   "source": [
    "from scipy.sparse import hstack\n",
    "from fastFM import sgd\n",
    "\n",
    "def train_fm(train, valid, trainy, validy):\n",
    "    fm = sgd.FMClassification(**params)\n",
    "    fm.fit(train, np.require(trainy*2-1, dtype=np.int))\n",
    "    return (roc_auc_score(trainy, fm.predict_proba(train)), roc_auc_score(validy, fm.predict_proba(valid)))\n",
    "\n",
    "def cv_fm(param, paramlst):\n",
    "    trainauc = [0.0]*len(paramlst)\n",
    "    validauc = [0.0]*len(paramlst)\n",
    "    for i, p in enumerate(paramlst):\n",
    "        params[param]=p\n",
    "        tv = [0,0,0]\n",
    "        vv = [0,0,0]\n",
    "        for fold in [1,2,3]:\n",
    "            train, ty = load_svmlight_file(path+\"train_{0}.csv\".format(fold))\n",
    "            valid, vy = load_svmlight_file(path+\"valid_{0}.csv\".format(fold))\n",
    "            ta = pd.read_csv(data+'train_{0}.csv'.format(str(fold))).fillna(0)\n",
    "            va = pd.read_csv(data+'valid_{0}.csv'.format(str(fold))).fillna(0)\n",
    "            tv[fold-1], vv[fold-1] = train_fm(train, valid, ty, vy)\n",
    "        trainauc[i]=np.mean(tv)\n",
    "        validauc[i]=np.mean(vv)\n",
    "    paramtable = pd.DataFrame({\n",
    "        'TrainingSet': trainauc,\n",
    "        'ValidationSet': validauc\n",
    "    }, columns=['TrainingSet', 'ValidationSet'], index=pd.Index(paramlst, name=param))\n",
    "    print(paramtable)"
   ]
  },
  {
   "cell_type": "code",
   "execution_count": 26,
   "metadata": {},
   "outputs": [
    {
     "name": "stdout",
     "output_type": "stream",
     "text": [
      "          TrainingSet  ValidationSet\n",
      "l2_reg_V                            \n",
      "0.4          0.920071       0.806509\n",
      "0.5          0.920067       0.806510\n",
      "0.6          0.920065       0.806509\n"
     ]
    }
   ],
   "source": [
    "cv_fm('l2_reg_V', [0.4, 0.5, 0.6])"
   ]
  },
  {
   "cell_type": "code",
   "execution_count": null,
   "metadata": {
    "collapsed": true
   },
   "outputs": [],
   "source": []
  }
 ],
 "metadata": {
  "kernelspec": {
   "display_name": "Python 3",
   "language": "python",
   "name": "python3"
  },
  "language_info": {
   "codemirror_mode": {
    "name": "ipython",
    "version": 3
   },
   "file_extension": ".py",
   "mimetype": "text/x-python",
   "name": "python",
   "nbconvert_exporter": "python",
   "pygments_lexer": "ipython3",
   "version": "3.5.2"
  }
 },
 "nbformat": 4,
 "nbformat_minor": 2
}
