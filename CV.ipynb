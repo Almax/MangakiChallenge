{
 "cells": [
  {
   "cell_type": "code",
   "execution_count": 45,
   "metadata": {
    "collapsed": true
   },
   "outputs": [],
   "source": [
    "import lightgbm as lgb\n",
    "from sklearn.metrics import roc_auc_score\n",
    "import gc\n",
    "\n",
    "gc.enable()\n",
    "\n",
    "params = {\n",
    "    'task': 'train',\n",
    "    'boosting_type': 'gbdt',\n",
    "    'objective': 'binary',\n",
    "    'metric': {'auc'},\n",
    "    'num_leaves': 80,\n",
    "    'min_data_in_leaf': 50,\n",
    "    'feature_fraction': 0.6,\n",
    "    'bagging_fraction': 0.96,\n",
    "    'bagging_freq': 1,\n",
    "    'lambda_l1': 0,\n",
    "    'verbose': 0\n",
    "}\n",
    "\n",
    "#params = {\n",
    "#    'task': 'train',\n",
    "#    'boosting_type': 'rf',\n",
    "#    'objective': 'binary',\n",
    "#    'metric': {'auc'},\n",
    "#    'num_leaves': 450,\n",
    "#    'min_data_in_leaf': 8,\n",
    "#    'feature_fraction': 0.65,\n",
    "#    'bagging_fraction': 0.8,\n",
    "#    'bagging_freq': 1,\n",
    "#    'lambda_l1': 0,\n",
    "#    'min_gain_to_split': 0,\n",
    "#    'verbose': 0\n",
    "#}"
   ]
  },
  {
   "cell_type": "code",
   "execution_count": 2,
   "metadata": {
    "collapsed": true
   },
   "outputs": [],
   "source": [
    "import pandas as pd\n",
    "import numpy as np\n",
    "\n",
    "data = \"/mnt/d/Data/mangaki-data-challenge/latest/\""
   ]
  },
  {
   "cell_type": "code",
   "execution_count": 3,
   "metadata": {
    "collapsed": true
   },
   "outputs": [],
   "source": [
    "def training(train, valid):\n",
    "    X = lgb.Dataset(train.drop(['user_id', 'work_id', 'rating'], axis=1), train['rating'])\n",
    "    V = lgb.Dataset(valid.drop(['user_id', 'work_id', 'rating'], axis=1), valid['rating'], reference=X)\n",
    "    gbdt = lgb.train(params, X, valid_sets=[X,V], num_boost_round=200, early_stopping_rounds=20, verbose_eval=False)\n",
    "    Yvp = gbdt.predict(valid.drop(['user_id', 'work_id', 'rating'], axis=1), num_iteration=gbdt.best_iteration)\n",
    "    Ytp = gbdt.predict(train.drop(['user_id', 'work_id', 'rating'], axis=1), num_iteration=gbdt.best_iteration)\n",
    "    return (roc_auc_score(train['rating'].values, Ytp), roc_auc_score(valid['rating'].values, Yvp))"
   ]
  },
  {
   "cell_type": "code",
   "execution_count": 30,
   "metadata": {
    "collapsed": true
   },
   "outputs": [],
   "source": [
    "def cv(param, paramlst):\n",
    "    trainauc = [0.0]*len(paramlst)\n",
    "    validauc = [0.0]*len(paramlst)\n",
    "    for i, p in enumerate(paramlst):\n",
    "        params[param]=p\n",
    "        tv = [0,0,0]\n",
    "        vv = [0,0,0]\n",
    "        for fold in [1,2,3]:\n",
    "            t = pd.read_csv(data+'train_{0}.csv'.format(str(fold)))\n",
    "            v = pd.read_csv(data+'valid_{0}.csv'.format(str(fold)))\n",
    "            #t.drop('item_category', axis=1, inplace=True)\n",
    "            #v.drop('item_category', axis=1, inplace=True)\n",
    "            t['item_category'] = t.item_category.astype('category')\n",
    "            v['item_category'] = v.item_category.astype('category')\n",
    "            tv[fold-1], vv[fold-1] = training(t, v)\n",
    "        trainauc[i]=np.mean(tv)\n",
    "        validauc[i]=np.mean(vv)\n",
    "    paramtable = pd.DataFrame({\n",
    "        'TrainingSet': trainauc,\n",
    "        'ValidationSet': validauc\n",
    "    }, columns=['TrainingSet', 'ValidationSet'], index=pd.Index(paramlst, name=param))\n",
    "    print(paramtable)"
   ]
  },
  {
   "cell_type": "code",
   "execution_count": null,
   "metadata": {},
   "outputs": [],
   "source": [
    "cv('feature_fraction', [0.55, 0.6, 0.65])"
   ]
  },
  {
   "cell_type": "markdown",
   "metadata": {},
   "source": [
    "LibFM"
   ]
  },
  {
   "cell_type": "code",
   "execution_count": 3,
   "metadata": {
    "collapsed": true
   },
   "outputs": [],
   "source": [
    "import pandas as pd\n",
    "import numpy as np\n",
    "from sklearn.metrics import roc_auc_score\n",
    "from sklearn.datasets import load_svmlight_file\n",
    "\n",
    "path = \"/mnt/d/Data/mangaki-data-challenge/libfm/\""
   ]
  },
  {
   "cell_type": "code",
   "execution_count": 4,
   "metadata": {
    "collapsed": true
   },
   "outputs": [],
   "source": [
    "params = {\n",
    "    'n_iter':300000, \n",
    "    'init_stdev':0.01,\n",
    "    'l2_reg_w':0.0001,\n",
    "    'l2_reg_V':0.5,\n",
    "    'rank':1,\n",
    "    'step_size':0.02\n",
    "}"
   ]
  },
  {
   "cell_type": "code",
   "execution_count": 5,
   "metadata": {
    "collapsed": true
   },
   "outputs": [],
   "source": [
    "from scipy.sparse import hstack\n",
    "from fastFM import sgd\n",
    "\n",
    "def train_fm(train, valid, trainy, validy):\n",
    "    fm = sgd.FMClassification(**params)\n",
    "    fm.fit(train, np.require(trainy*2-1, dtype=np.int))\n",
    "    return (roc_auc_score(trainy, fm.predict_proba(train)), roc_auc_score(validy, fm.predict_proba(valid)))\n",
    "\n",
    "def cv_fm(param, paramlst):\n",
    "    trainauc = [0.0]*len(paramlst)\n",
    "    validauc = [0.0]*len(paramlst)\n",
    "    for i, p in enumerate(paramlst):\n",
    "        params[param]=p\n",
    "        tv = [0,0,0]\n",
    "        vv = [0,0,0]\n",
    "        for fold in [1,2,3]:\n",
    "            train, ty = load_svmlight_file(path+\"train_{0}.csv\".format(fold))\n",
    "            valid, vy = load_svmlight_file(path+\"valid_{0}.csv\".format(fold))\n",
    "            ta = pd.read_csv(data+'train_{0}.csv'.format(str(fold))).fillna(0)\n",
    "            va = pd.read_csv(data+'valid_{0}.csv'.format(str(fold))).fillna(0)\n",
    "            tv[fold-1], vv[fold-1] = train_fm(train, valid, ty, vy)\n",
    "        trainauc[i]=np.mean(tv)\n",
    "        validauc[i]=np.mean(vv)\n",
    "    paramtable = pd.DataFrame({\n",
    "        'TrainingSet': trainauc,\n",
    "        'ValidationSet': validauc\n",
    "    }, columns=['TrainingSet', 'ValidationSet'], index=pd.Index(paramlst, name=param))\n",
    "    print(paramtable)"
   ]
  },
  {
   "cell_type": "code",
   "execution_count": 6,
   "metadata": {},
   "outputs": [
    {
     "name": "stdout",
     "output_type": "stream",
     "text": [
      "          TrainingSet  ValidationSet\n",
      "l2_reg_V                            \n",
      "0.125        0.907064       0.801524\n",
      "0.250        0.913904       0.805347\n",
      "0.500        0.914027       0.805387\n",
      "1.000        0.914027       0.805387\n"
     ]
    }
   ],
   "source": [
    "cv_fm('l2_reg_V', [0.125, 0.25, 0.5, 1])"
   ]
  },
  {
   "cell_type": "code",
   "execution_count": null,
   "metadata": {
    "collapsed": true
   },
   "outputs": [],
   "source": []
  }
 ],
 "metadata": {
  "kernelspec": {
   "display_name": "Python 3",
   "language": "python",
   "name": "python3"
  },
  "language_info": {
   "codemirror_mode": {
    "name": "ipython",
    "version": 3
   },
   "file_extension": ".py",
   "mimetype": "text/x-python",
   "name": "python",
   "nbconvert_exporter": "python",
   "pygments_lexer": "ipython3",
   "version": "3.5.2"
  }
 },
 "nbformat": 4,
 "nbformat_minor": 2
}
