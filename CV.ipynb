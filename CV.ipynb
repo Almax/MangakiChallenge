{
 "cells": [
  {
   "cell_type": "code",
   "execution_count": 45,
   "metadata": {
    "collapsed": true
   },
   "outputs": [],
   "source": [
    "import lightgbm as lgb\n",
    "from sklearn.metrics import f1_score, roc_auc_score\n",
    "\n",
    "params = {\n",
    "    'task': 'train',\n",
    "    'boosting_type': 'gbdt',\n",
    "    'objective': 'binary',\n",
    "    'metric': {'auc'},\n",
    "    'num_leaves': 6,\n",
    "    'min_data_in_leaf': 1100,\n",
    "    'feature_fraction': 0.5,\n",
    "    'bagging_fraction': 1,\n",
    "    'verbose': 0\n",
    "}"
   ]
  },
  {
   "cell_type": "code",
   "execution_count": 4,
   "metadata": {},
   "outputs": [],
   "source": [
    "import pandas as pd\n",
    "import numpy as np\n",
    "\n",
    "data = \"/mnt/d/Data/mangaki-data-challenge/\"\n",
    "train = pd.read_csv(data+'train_1.csv')\n",
    "valid = pd.read_csv(data+'valid_1.csv')"
   ]
  },
  {
   "cell_type": "code",
   "execution_count": 20,
   "metadata": {},
   "outputs": [],
   "source": [
    "def training(train, valid):\n",
    "    X = lgb.Dataset(train.drop('rating', axis=1), train['rating'])\n",
    "    V = lgb.Dataset(valid.drop('rating', axis=1), valid['rating'], reference=X)\n",
    "    gbdt = lgb.train(params, X, valid_sets=[X,V], early_stopping_rounds=20, verbose_eval=False)\n",
    "    Yvp = gbdt.predict(valid.drop('rating', axis=1), num_iteration=gbdt.best_iteration)\n",
    "    Ytp = gbdt.predict(train.drop('rating', axis=1), num_iteration=gbdt.best_iteration)\n",
    "    return (roc_auc_score(train['rating'].values, Ytp), roc_auc_score(valid['rating'].values, Yvp))"
   ]
  },
  {
   "cell_type": "code",
   "execution_count": 28,
   "metadata": {},
   "outputs": [],
   "source": [
    "def cv(param, paramlst):\n",
    "    trainauc = [0.0]*len(paramlst)\n",
    "    validauc = [0.0]*len(paramlst)\n",
    "    for i, p in enumerate(paramlst):\n",
    "        params[param]=p\n",
    "        tv = [0,0,0]\n",
    "        vv = [0,0,0]\n",
    "        for fold in [1,2,3]:\n",
    "            t = pd.read_csv(data+'train_{0}.csv'.format(str(fold)))\n",
    "            v = pd.read_csv(data+'valid_{0}.csv'.format(str(fold)))\n",
    "            tv[fold-1], vv[fold-1] = training(t, v)\n",
    "        trainauc[i]=np.mean(tv)\n",
    "        validauc[i]=np.mean(vv)\n",
    "    paramtable = pd.DataFrame({\n",
    "        'TrainingSet': trainauc,\n",
    "        'ValidationSet': validauc\n",
    "    }, columns=['TrainingSet', 'ValidationSet'], index=pd.Index(paramlst, name=param))\n",
    "    print(paramtable)"
   ]
  },
  {
   "cell_type": "code",
   "execution_count": 49,
   "metadata": {},
   "outputs": [
    {
     "name": "stdout",
     "output_type": "stream",
     "text": [
      "                   TrainingSet  ValidationSet\n",
      "min_gain_to_split                            \n",
      "0.1                   0.917199       0.799041\n",
      "1.0                   0.917199       0.799041\n",
      "10.0                  0.917199       0.799041\n",
      "100.0                 0.914841       0.795885\n"
     ]
    }
   ],
   "source": [
    "cv('min_gain_to_split', [0.1, 1, 10, 100])"
   ]
  },
  {
   "cell_type": "code",
   "execution_count": 16,
   "metadata": {},
   "outputs": [
    {
     "data": {
      "text/plain": [
       "[]"
      ]
     },
     "execution_count": 16,
     "metadata": {},
     "output_type": "execute_result"
    }
   ],
   "source": [
    "[]*8"
   ]
  },
  {
   "cell_type": "code",
   "execution_count": null,
   "metadata": {
    "collapsed": true
   },
   "outputs": [],
   "source": []
  }
 ],
 "metadata": {
  "kernelspec": {
   "display_name": "Python 3",
   "language": "python",
   "name": "python3"
  },
  "language_info": {
   "codemirror_mode": {
    "name": "ipython",
    "version": 3
   },
   "file_extension": ".py",
   "mimetype": "text/x-python",
   "name": "python",
   "nbconvert_exporter": "python",
   "pygments_lexer": "ipython3",
   "version": "3.5.2"
  }
 },
 "nbformat": 4,
 "nbformat_minor": 2
}
