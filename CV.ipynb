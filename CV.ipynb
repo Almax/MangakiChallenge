{
 "cells": [
  {
   "cell_type": "code",
   "execution_count": 2,
   "metadata": {
    "collapsed": true
   },
   "outputs": [],
   "source": [
    "import lightgbm as lgb\n",
    "from sklearn.metrics import roc_auc_score\n",
    "import gc\n",
    "\n",
    "gc.enable()\n",
    "\n",
    "params = {\n",
    "    'task': 'train',\n",
    "    'boosting_type': 'rf',\n",
    "    'objective': 'binary',\n",
    "    'metric': {'auc'},\n",
    "    'num_leaves': 240,\n",
    "    'min_data_in_leaf': 10,\n",
    "    'feature_fraction': 0.6,\n",
    "    'bagging_fraction': 0.8,\n",
    "    'bagging_freq': 1,\n",
    "    'lambda_l1': 0,\n",
    "    'verbose': 0\n",
    "}"
   ]
  },
  {
   "cell_type": "code",
   "execution_count": 3,
   "metadata": {
    "collapsed": true
   },
   "outputs": [],
   "source": [
    "import pandas as pd\n",
    "import numpy as np\n",
    "\n",
    "data = \"/mnt/d/Data/mangaki-data-challenge/latest/\""
   ]
  },
  {
   "cell_type": "code",
   "execution_count": 15,
   "metadata": {
    "collapsed": true
   },
   "outputs": [],
   "source": [
    "def training(train, valid):\n",
    "    X = lgb.Dataset(train.drop(['user_id', 'work_id', 'rating'], axis=1), train['rating'])\n",
    "    V = lgb.Dataset(valid.drop(['user_id', 'work_id', 'rating'], axis=1), valid['rating'], reference=X)\n",
    "    gbdt = lgb.train(params, X, valid_sets=[X,V], num_boost_round=200, early_stopping_rounds=20, verbose_eval=True)\n",
    "    Yvp = gbdt.predict(valid.drop(['user_id', 'work_id', 'rating'], axis=1), num_iteration=gbdt.best_iteration)\n",
    "    Ytp = gbdt.predict(train.drop(['user_id', 'work_id', 'rating'], axis=1), num_iteration=gbdt.best_iteration)\n",
    "    return (roc_auc_score(train['rating'].values, Ytp), roc_auc_score(valid['rating'].values, Yvp))"
   ]
  },
  {
   "cell_type": "code",
   "execution_count": 4,
   "metadata": {
    "collapsed": true
   },
   "outputs": [],
   "source": [
    "def cv(param, paramlst):\n",
    "    trainauc = [0.0]*len(paramlst)\n",
    "    validauc = [0.0]*len(paramlst)\n",
    "    for i, p in enumerate(paramlst):\n",
    "        params[param]=p\n",
    "        tv = [0,0,0]\n",
    "        vv = [0,0,0]\n",
    "        for fold in [1,2,3]:\n",
    "            t = pd.read_csv(data+'train_{0}.csv'.format(str(fold)))\n",
    "            v = pd.read_csv(data+'valid_{0}.csv'.format(str(fold)))\n",
    "            #t['item_category'] = t.item_category.astype('category')\n",
    "            #v['item_category'] = v.item_category.astype('category')\n",
    "            tv[fold-1], vv[fold-1] = training(t, v)\n",
    "        trainauc[i]=np.mean(tv)\n",
    "        validauc[i]=np.mean(vv)\n",
    "    paramtable = pd.DataFrame({\n",
    "        'TrainingSet': trainauc,\n",
    "        'ValidationSet': validauc\n",
    "    }, columns=['TrainingSet', 'ValidationSet'], index=pd.Index(paramlst, name=param))\n",
    "    print(paramtable)"
   ]
  },
  {
   "cell_type": "code",
   "execution_count": 16,
   "metadata": {},
   "outputs": [
    {
     "name": "stdout",
     "output_type": "stream",
     "text": [
      "[1]\ttraining's auc: 0.870701\tvalid_1's auc: 0.719176\n",
      "Training until validation scores don't improve for 20 rounds.\n",
      "[2]\ttraining's auc: 0.916011\tvalid_1's auc: 0.753267\n",
      "[3]\ttraining's auc: 0.938291\tvalid_1's auc: 0.76771\n",
      "[4]\ttraining's auc: 0.951054\tvalid_1's auc: 0.779561\n",
      "[5]\ttraining's auc: 0.957918\tvalid_1's auc: 0.786861\n",
      "[6]\ttraining's auc: 0.960697\tvalid_1's auc: 0.793694\n",
      "[7]\ttraining's auc: 0.963753\tvalid_1's auc: 0.802363\n",
      "[8]\ttraining's auc: 0.964765\tvalid_1's auc: 0.80446\n",
      "[9]\ttraining's auc: 0.965855\tvalid_1's auc: 0.805597\n",
      "[10]\ttraining's auc: 0.967222\tvalid_1's auc: 0.807962\n",
      "[11]\ttraining's auc: 0.968076\tvalid_1's auc: 0.808422\n",
      "[12]\ttraining's auc: 0.968701\tvalid_1's auc: 0.81024\n",
      "[13]\ttraining's auc: 0.96957\tvalid_1's auc: 0.810445\n",
      "[14]\ttraining's auc: 0.969613\tvalid_1's auc: 0.810603\n",
      "[15]\ttraining's auc: 0.970426\tvalid_1's auc: 0.811045\n",
      "[16]\ttraining's auc: 0.97077\tvalid_1's auc: 0.812166\n",
      "[17]\ttraining's auc: 0.970839\tvalid_1's auc: 0.811681\n",
      "[18]\ttraining's auc: 0.971465\tvalid_1's auc: 0.812758\n",
      "[19]\ttraining's auc: 0.971391\tvalid_1's auc: 0.814461\n",
      "[20]\ttraining's auc: 0.971664\tvalid_1's auc: 0.815878\n",
      "[21]\ttraining's auc: 0.971759\tvalid_1's auc: 0.816212\n",
      "[22]\ttraining's auc: 0.971869\tvalid_1's auc: 0.816436\n",
      "[23]\ttraining's auc: 0.972411\tvalid_1's auc: 0.816607\n",
      "[24]\ttraining's auc: 0.972815\tvalid_1's auc: 0.817556\n",
      "[25]\ttraining's auc: 0.973116\tvalid_1's auc: 0.818019\n",
      "[26]\ttraining's auc: 0.973403\tvalid_1's auc: 0.81813\n",
      "[27]\ttraining's auc: 0.973546\tvalid_1's auc: 0.817711\n",
      "[28]\ttraining's auc: 0.973636\tvalid_1's auc: 0.818978\n",
      "[29]\ttraining's auc: 0.973631\tvalid_1's auc: 0.819561\n",
      "[30]\ttraining's auc: 0.973937\tvalid_1's auc: 0.819699\n",
      "[31]\ttraining's auc: 0.974023\tvalid_1's auc: 0.819645\n",
      "[32]\ttraining's auc: 0.974031\tvalid_1's auc: 0.81917\n",
      "[33]\ttraining's auc: 0.974072\tvalid_1's auc: 0.818697\n",
      "[34]\ttraining's auc: 0.974016\tvalid_1's auc: 0.819685\n",
      "[35]\ttraining's auc: 0.973899\tvalid_1's auc: 0.819275\n",
      "[36]\ttraining's auc: 0.974043\tvalid_1's auc: 0.818616\n",
      "[37]\ttraining's auc: 0.974031\tvalid_1's auc: 0.818744\n",
      "[38]\ttraining's auc: 0.973961\tvalid_1's auc: 0.818316\n",
      "[39]\ttraining's auc: 0.974244\tvalid_1's auc: 0.818112\n",
      "[40]\ttraining's auc: 0.974322\tvalid_1's auc: 0.818276\n",
      "[41]\ttraining's auc: 0.974517\tvalid_1's auc: 0.818644\n",
      "[42]\ttraining's auc: 0.974658\tvalid_1's auc: 0.818485\n",
      "[43]\ttraining's auc: 0.974794\tvalid_1's auc: 0.819343\n",
      "[44]\ttraining's auc: 0.974964\tvalid_1's auc: 0.81958\n",
      "[45]\ttraining's auc: 0.975119\tvalid_1's auc: 0.8191\n",
      "[46]\ttraining's auc: 0.97519\tvalid_1's auc: 0.819209\n",
      "[47]\ttraining's auc: 0.975272\tvalid_1's auc: 0.819398\n",
      "[48]\ttraining's auc: 0.975472\tvalid_1's auc: 0.819771\n",
      "[49]\ttraining's auc: 0.975603\tvalid_1's auc: 0.820178\n",
      "[50]\ttraining's auc: 0.975607\tvalid_1's auc: 0.820101\n",
      "[51]\ttraining's auc: 0.975619\tvalid_1's auc: 0.820255\n",
      "[52]\ttraining's auc: 0.975618\tvalid_1's auc: 0.820387\n",
      "[53]\ttraining's auc: 0.975578\tvalid_1's auc: 0.820803\n",
      "[54]\ttraining's auc: 0.975542\tvalid_1's auc: 0.820603\n",
      "[55]\ttraining's auc: 0.975477\tvalid_1's auc: 0.820384\n",
      "[56]\ttraining's auc: 0.975538\tvalid_1's auc: 0.820642\n",
      "[57]\ttraining's auc: 0.975694\tvalid_1's auc: 0.820492\n",
      "[58]\ttraining's auc: 0.975791\tvalid_1's auc: 0.820814\n",
      "[59]\ttraining's auc: 0.975874\tvalid_1's auc: 0.820922\n",
      "[60]\ttraining's auc: 0.975881\tvalid_1's auc: 0.820914\n",
      "[61]\ttraining's auc: 0.975994\tvalid_1's auc: 0.820899\n",
      "[62]\ttraining's auc: 0.976087\tvalid_1's auc: 0.82106\n",
      "[63]\ttraining's auc: 0.976195\tvalid_1's auc: 0.821023\n",
      "[64]\ttraining's auc: 0.976352\tvalid_1's auc: 0.82075\n",
      "[65]\ttraining's auc: 0.976406\tvalid_1's auc: 0.821003\n",
      "[66]\ttraining's auc: 0.976251\tvalid_1's auc: 0.820999\n",
      "[67]\ttraining's auc: 0.97619\tvalid_1's auc: 0.821008\n",
      "[68]\ttraining's auc: 0.976205\tvalid_1's auc: 0.820747\n",
      "[69]\ttraining's auc: 0.976238\tvalid_1's auc: 0.820992\n",
      "[70]\ttraining's auc: 0.976271\tvalid_1's auc: 0.820908\n",
      "[71]\ttraining's auc: 0.976325\tvalid_1's auc: 0.820851\n",
      "[72]\ttraining's auc: 0.976364\tvalid_1's auc: 0.820792\n",
      "[73]\ttraining's auc: 0.976332\tvalid_1's auc: 0.820761\n",
      "[74]\ttraining's auc: 0.976393\tvalid_1's auc: 0.821169\n",
      "[75]\ttraining's auc: 0.9764\tvalid_1's auc: 0.821237\n",
      "[76]\ttraining's auc: 0.976426\tvalid_1's auc: 0.821456\n",
      "[77]\ttraining's auc: 0.976543\tvalid_1's auc: 0.821627\n",
      "[78]\ttraining's auc: 0.976554\tvalid_1's auc: 0.821528\n",
      "[79]\ttraining's auc: 0.976582\tvalid_1's auc: 0.821827\n",
      "[80]\ttraining's auc: 0.976611\tvalid_1's auc: 0.821638\n",
      "[81]\ttraining's auc: 0.976591\tvalid_1's auc: 0.82167\n",
      "[82]\ttraining's auc: 0.97661\tvalid_1's auc: 0.821856\n",
      "[83]\ttraining's auc: 0.976636\tvalid_1's auc: 0.821839\n",
      "[84]\ttraining's auc: 0.976759\tvalid_1's auc: 0.821759\n",
      "[85]\ttraining's auc: 0.97679\tvalid_1's auc: 0.821767\n",
      "[86]\ttraining's auc: 0.976816\tvalid_1's auc: 0.821913\n",
      "[87]\ttraining's auc: 0.97683\tvalid_1's auc: 0.821901\n",
      "[88]\ttraining's auc: 0.976947\tvalid_1's auc: 0.822155\n",
      "[89]\ttraining's auc: 0.976984\tvalid_1's auc: 0.82209\n",
      "[90]\ttraining's auc: 0.976966\tvalid_1's auc: 0.822099\n",
      "[91]\ttraining's auc: 0.97701\tvalid_1's auc: 0.822099\n",
      "[92]\ttraining's auc: 0.977014\tvalid_1's auc: 0.822281\n",
      "[93]\ttraining's auc: 0.977052\tvalid_1's auc: 0.822468\n",
      "[94]\ttraining's auc: 0.977026\tvalid_1's auc: 0.822358\n",
      "[95]\ttraining's auc: 0.977051\tvalid_1's auc: 0.822272\n",
      "[96]\ttraining's auc: 0.977042\tvalid_1's auc: 0.822014\n",
      "[97]\ttraining's auc: 0.976992\tvalid_1's auc: 0.821943\n",
      "[98]\ttraining's auc: 0.976916\tvalid_1's auc: 0.821993\n",
      "[99]\ttraining's auc: 0.976943\tvalid_1's auc: 0.821891\n",
      "[100]\ttraining's auc: 0.976972\tvalid_1's auc: 0.821699\n",
      "[101]\ttraining's auc: 0.976938\tvalid_1's auc: 0.821623\n",
      "[102]\ttraining's auc: 0.976946\tvalid_1's auc: 0.82178\n",
      "[103]\ttraining's auc: 0.976999\tvalid_1's auc: 0.82164\n",
      "[104]\ttraining's auc: 0.977064\tvalid_1's auc: 0.821517\n",
      "[105]\ttraining's auc: 0.977034\tvalid_1's auc: 0.8217\n",
      "[106]\ttraining's auc: 0.97704\tvalid_1's auc: 0.821797\n",
      "[107]\ttraining's auc: 0.977019\tvalid_1's auc: 0.821723\n",
      "[108]\ttraining's auc: 0.97702\tvalid_1's auc: 0.821703\n",
      "[109]\ttraining's auc: 0.977025\tvalid_1's auc: 0.821717\n",
      "[110]\ttraining's auc: 0.977028\tvalid_1's auc: 0.821663\n",
      "[111]\ttraining's auc: 0.976953\tvalid_1's auc: 0.821802\n",
      "[112]\ttraining's auc: 0.976944\tvalid_1's auc: 0.821577\n",
      "[113]\ttraining's auc: 0.976972\tvalid_1's auc: 0.821749\n",
      "Early stopping, best iteration is:\n",
      "[93]\ttraining's auc: 0.977052\tvalid_1's auc: 0.822468\n",
      "[1]\ttraining's auc: 0.867542\tvalid_1's auc: 0.711208\n",
      "Training until validation scores don't improve for 20 rounds.\n",
      "[2]\ttraining's auc: 0.917264\tvalid_1's auc: 0.74712\n",
      "[3]\ttraining's auc: 0.939098\tvalid_1's auc: 0.766848\n",
      "[4]\ttraining's auc: 0.949725\tvalid_1's auc: 0.776935\n",
      "[5]\ttraining's auc: 0.956699\tvalid_1's auc: 0.780932\n",
      "[6]\ttraining's auc: 0.960614\tvalid_1's auc: 0.788852\n",
      "[7]\ttraining's auc: 0.963465\tvalid_1's auc: 0.794898\n",
      "[8]\ttraining's auc: 0.964414\tvalid_1's auc: 0.798429\n",
      "[9]\ttraining's auc: 0.965973\tvalid_1's auc: 0.802587\n",
      "[10]\ttraining's auc: 0.967495\tvalid_1's auc: 0.804544\n",
      "[11]\ttraining's auc: 0.968142\tvalid_1's auc: 0.805834\n",
      "[12]\ttraining's auc: 0.968923\tvalid_1's auc: 0.807745\n",
      "[13]\ttraining's auc: 0.969611\tvalid_1's auc: 0.810545\n",
      "[14]\ttraining's auc: 0.969854\tvalid_1's auc: 0.811852\n",
      "[15]\ttraining's auc: 0.970641\tvalid_1's auc: 0.811274\n",
      "[16]\ttraining's auc: 0.971233\tvalid_1's auc: 0.811653\n",
      "[17]\ttraining's auc: 0.971628\tvalid_1's auc: 0.81279\n",
      "[18]\ttraining's auc: 0.972416\tvalid_1's auc: 0.813508\n",
      "[19]\ttraining's auc: 0.972852\tvalid_1's auc: 0.814245\n",
      "[20]\ttraining's auc: 0.973297\tvalid_1's auc: 0.815413\n",
      "[21]\ttraining's auc: 0.973533\tvalid_1's auc: 0.815627\n",
      "[22]\ttraining's auc: 0.973638\tvalid_1's auc: 0.816162\n",
      "[23]\ttraining's auc: 0.974035\tvalid_1's auc: 0.817021\n",
      "[24]\ttraining's auc: 0.974204\tvalid_1's auc: 0.817914\n",
      "[25]\ttraining's auc: 0.974487\tvalid_1's auc: 0.817679\n",
      "[26]\ttraining's auc: 0.974632\tvalid_1's auc: 0.818171\n",
      "[27]\ttraining's auc: 0.974762\tvalid_1's auc: 0.817998\n",
      "[28]\ttraining's auc: 0.974961\tvalid_1's auc: 0.817317\n",
      "[29]\ttraining's auc: 0.975196\tvalid_1's auc: 0.81692\n",
      "[30]\ttraining's auc: 0.975427\tvalid_1's auc: 0.817409\n",
      "[31]\ttraining's auc: 0.975534\tvalid_1's auc: 0.817531\n",
      "[32]\ttraining's auc: 0.975725\tvalid_1's auc: 0.81823\n",
      "[33]\ttraining's auc: 0.975781\tvalid_1's auc: 0.818581\n",
      "[34]\ttraining's auc: 0.975838\tvalid_1's auc: 0.819463\n",
      "[35]\ttraining's auc: 0.975969\tvalid_1's auc: 0.819827\n",
      "[36]\ttraining's auc: 0.97607\tvalid_1's auc: 0.820133\n"
     ]
    },
    {
     "name": "stdout",
     "output_type": "stream",
     "text": [
      "[37]\ttraining's auc: 0.976066\tvalid_1's auc: 0.820255\n",
      "[38]\ttraining's auc: 0.976116\tvalid_1's auc: 0.820566\n",
      "[39]\ttraining's auc: 0.976047\tvalid_1's auc: 0.820753\n",
      "[40]\ttraining's auc: 0.976176\tvalid_1's auc: 0.820974\n",
      "[41]\ttraining's auc: 0.976165\tvalid_1's auc: 0.821105\n",
      "[42]\ttraining's auc: 0.976252\tvalid_1's auc: 0.821381\n",
      "[43]\ttraining's auc: 0.976324\tvalid_1's auc: 0.821623\n",
      "[44]\ttraining's auc: 0.97642\tvalid_1's auc: 0.821969\n",
      "[45]\ttraining's auc: 0.976504\tvalid_1's auc: 0.822305\n",
      "[46]\ttraining's auc: 0.976558\tvalid_1's auc: 0.822378\n",
      "[47]\ttraining's auc: 0.976637\tvalid_1's auc: 0.822656\n",
      "[48]\ttraining's auc: 0.976804\tvalid_1's auc: 0.82287\n",
      "[49]\ttraining's auc: 0.976753\tvalid_1's auc: 0.823019\n",
      "[50]\ttraining's auc: 0.976783\tvalid_1's auc: 0.822896\n",
      "[51]\ttraining's auc: 0.976805\tvalid_1's auc: 0.823107\n",
      "[52]\ttraining's auc: 0.976737\tvalid_1's auc: 0.823504\n",
      "[53]\ttraining's auc: 0.976786\tvalid_1's auc: 0.823809\n",
      "[54]\ttraining's auc: 0.976928\tvalid_1's auc: 0.823807\n",
      "[55]\ttraining's auc: 0.976892\tvalid_1's auc: 0.823719\n",
      "[56]\ttraining's auc: 0.976976\tvalid_1's auc: 0.823891\n",
      "[57]\ttraining's auc: 0.977128\tvalid_1's auc: 0.824177\n",
      "[58]\ttraining's auc: 0.977178\tvalid_1's auc: 0.824436\n",
      "[59]\ttraining's auc: 0.977214\tvalid_1's auc: 0.824808\n",
      "[60]\ttraining's auc: 0.977285\tvalid_1's auc: 0.824991\n",
      "[61]\ttraining's auc: 0.977336\tvalid_1's auc: 0.824896\n",
      "[62]\ttraining's auc: 0.977327\tvalid_1's auc: 0.824773\n",
      "[63]\ttraining's auc: 0.977361\tvalid_1's auc: 0.824714\n",
      "[64]\ttraining's auc: 0.977335\tvalid_1's auc: 0.824878\n",
      "[65]\ttraining's auc: 0.977274\tvalid_1's auc: 0.82427\n",
      "[66]\ttraining's auc: 0.977214\tvalid_1's auc: 0.824375\n",
      "[67]\ttraining's auc: 0.977282\tvalid_1's auc: 0.824495\n",
      "[68]\ttraining's auc: 0.977364\tvalid_1's auc: 0.824461\n",
      "[69]\ttraining's auc: 0.977258\tvalid_1's auc: 0.824221\n",
      "[70]\ttraining's auc: 0.977121\tvalid_1's auc: 0.82426\n",
      "[71]\ttraining's auc: 0.977089\tvalid_1's auc: 0.823986\n",
      "[72]\ttraining's auc: 0.977173\tvalid_1's auc: 0.82428\n",
      "[73]\ttraining's auc: 0.977198\tvalid_1's auc: 0.824569\n",
      "[74]\ttraining's auc: 0.977244\tvalid_1's auc: 0.824651\n",
      "[75]\ttraining's auc: 0.977301\tvalid_1's auc: 0.824777\n",
      "[76]\ttraining's auc: 0.977373\tvalid_1's auc: 0.824732\n",
      "[77]\ttraining's auc: 0.977448\tvalid_1's auc: 0.824527\n",
      "[78]\ttraining's auc: 0.977436\tvalid_1's auc: 0.824749\n",
      "[79]\ttraining's auc: 0.977426\tvalid_1's auc: 0.824776\n",
      "[80]\ttraining's auc: 0.977435\tvalid_1's auc: 0.824983\n",
      "Early stopping, best iteration is:\n",
      "[60]\ttraining's auc: 0.977285\tvalid_1's auc: 0.824991\n",
      "[1]\ttraining's auc: 0.868973\tvalid_1's auc: 0.710614\n",
      "Training until validation scores don't improve for 20 rounds.\n",
      "[2]\ttraining's auc: 0.915182\tvalid_1's auc: 0.750367\n",
      "[3]\ttraining's auc: 0.935686\tvalid_1's auc: 0.770796\n",
      "[4]\ttraining's auc: 0.946859\tvalid_1's auc: 0.780181\n",
      "[5]\ttraining's auc: 0.953565\tvalid_1's auc: 0.786007\n",
      "[6]\ttraining's auc: 0.959024\tvalid_1's auc: 0.794423\n",
      "[7]\ttraining's auc: 0.962044\tvalid_1's auc: 0.800436\n",
      "[8]\ttraining's auc: 0.963808\tvalid_1's auc: 0.802166\n",
      "[9]\ttraining's auc: 0.965482\tvalid_1's auc: 0.803306\n",
      "[10]\ttraining's auc: 0.966746\tvalid_1's auc: 0.8049\n",
      "[11]\ttraining's auc: 0.9677\tvalid_1's auc: 0.805354\n",
      "[12]\ttraining's auc: 0.968985\tvalid_1's auc: 0.806393\n",
      "[13]\ttraining's auc: 0.970281\tvalid_1's auc: 0.810093\n",
      "[14]\ttraining's auc: 0.970711\tvalid_1's auc: 0.811503\n",
      "[15]\ttraining's auc: 0.971681\tvalid_1's auc: 0.812465\n",
      "[16]\ttraining's auc: 0.972136\tvalid_1's auc: 0.812854\n",
      "[17]\ttraining's auc: 0.972658\tvalid_1's auc: 0.812297\n",
      "[18]\ttraining's auc: 0.9728\tvalid_1's auc: 0.813006\n",
      "[19]\ttraining's auc: 0.972864\tvalid_1's auc: 0.81365\n",
      "[20]\ttraining's auc: 0.972979\tvalid_1's auc: 0.814435\n",
      "[21]\ttraining's auc: 0.972996\tvalid_1's auc: 0.815804\n",
      "[22]\ttraining's auc: 0.973202\tvalid_1's auc: 0.816447\n",
      "[23]\ttraining's auc: 0.973544\tvalid_1's auc: 0.817606\n",
      "[24]\ttraining's auc: 0.973585\tvalid_1's auc: 0.818484\n",
      "[25]\ttraining's auc: 0.973728\tvalid_1's auc: 0.818635\n",
      "[26]\ttraining's auc: 0.973867\tvalid_1's auc: 0.81888\n",
      "[27]\ttraining's auc: 0.97416\tvalid_1's auc: 0.81891\n",
      "[28]\ttraining's auc: 0.974353\tvalid_1's auc: 0.819076\n",
      "[29]\ttraining's auc: 0.974349\tvalid_1's auc: 0.81952\n",
      "[30]\ttraining's auc: 0.974418\tvalid_1's auc: 0.819319\n",
      "[31]\ttraining's auc: 0.974434\tvalid_1's auc: 0.8198\n",
      "[32]\ttraining's auc: 0.9745\tvalid_1's auc: 0.820915\n",
      "[33]\ttraining's auc: 0.974665\tvalid_1's auc: 0.820972\n",
      "[34]\ttraining's auc: 0.974889\tvalid_1's auc: 0.820466\n",
      "[35]\ttraining's auc: 0.974991\tvalid_1's auc: 0.8201\n",
      "[36]\ttraining's auc: 0.975233\tvalid_1's auc: 0.820614\n",
      "[37]\ttraining's auc: 0.975564\tvalid_1's auc: 0.820274\n",
      "[38]\ttraining's auc: 0.975657\tvalid_1's auc: 0.82059\n",
      "[39]\ttraining's auc: 0.975695\tvalid_1's auc: 0.820431\n",
      "[40]\ttraining's auc: 0.975813\tvalid_1's auc: 0.820353\n",
      "[41]\ttraining's auc: 0.975855\tvalid_1's auc: 0.820948\n",
      "[42]\ttraining's auc: 0.97602\tvalid_1's auc: 0.820825\n",
      "[43]\ttraining's auc: 0.97608\tvalid_1's auc: 0.821525\n",
      "[44]\ttraining's auc: 0.976123\tvalid_1's auc: 0.821825\n",
      "[45]\ttraining's auc: 0.976098\tvalid_1's auc: 0.822107\n",
      "[46]\ttraining's auc: 0.976157\tvalid_1's auc: 0.822876\n",
      "[47]\ttraining's auc: 0.976388\tvalid_1's auc: 0.823166\n",
      "[48]\ttraining's auc: 0.976536\tvalid_1's auc: 0.823749\n",
      "[49]\ttraining's auc: 0.976826\tvalid_1's auc: 0.823723\n",
      "[50]\ttraining's auc: 0.976775\tvalid_1's auc: 0.823608\n",
      "[51]\ttraining's auc: 0.976824\tvalid_1's auc: 0.82389\n",
      "[52]\ttraining's auc: 0.976779\tvalid_1's auc: 0.824004\n",
      "[53]\ttraining's auc: 0.976719\tvalid_1's auc: 0.823757\n",
      "[54]\ttraining's auc: 0.976822\tvalid_1's auc: 0.82393\n",
      "[55]\ttraining's auc: 0.976853\tvalid_1's auc: 0.823947\n",
      "[56]\ttraining's auc: 0.976743\tvalid_1's auc: 0.82355\n",
      "[57]\ttraining's auc: 0.97688\tvalid_1's auc: 0.823926\n",
      "[58]\ttraining's auc: 0.976896\tvalid_1's auc: 0.824229\n",
      "[59]\ttraining's auc: 0.976925\tvalid_1's auc: 0.824185\n",
      "[60]\ttraining's auc: 0.97694\tvalid_1's auc: 0.824386\n",
      "[61]\ttraining's auc: 0.976967\tvalid_1's auc: 0.824462\n",
      "[62]\ttraining's auc: 0.977024\tvalid_1's auc: 0.824639\n",
      "[63]\ttraining's auc: 0.977078\tvalid_1's auc: 0.824791\n",
      "[64]\ttraining's auc: 0.977033\tvalid_1's auc: 0.824777\n",
      "[65]\ttraining's auc: 0.977027\tvalid_1's auc: 0.825091\n",
      "[66]\ttraining's auc: 0.977129\tvalid_1's auc: 0.825152\n",
      "[67]\ttraining's auc: 0.977181\tvalid_1's auc: 0.825218\n",
      "[68]\ttraining's auc: 0.977195\tvalid_1's auc: 0.825125\n",
      "[69]\ttraining's auc: 0.977197\tvalid_1's auc: 0.82493\n",
      "[70]\ttraining's auc: 0.977142\tvalid_1's auc: 0.824965\n",
      "[71]\ttraining's auc: 0.977175\tvalid_1's auc: 0.82488\n",
      "[72]\ttraining's auc: 0.97725\tvalid_1's auc: 0.824975\n",
      "[73]\ttraining's auc: 0.977295\tvalid_1's auc: 0.825142\n",
      "[74]\ttraining's auc: 0.977334\tvalid_1's auc: 0.825333\n",
      "[75]\ttraining's auc: 0.977363\tvalid_1's auc: 0.825478\n",
      "[76]\ttraining's auc: 0.977431\tvalid_1's auc: 0.82521\n",
      "[77]\ttraining's auc: 0.977502\tvalid_1's auc: 0.825319\n",
      "[78]\ttraining's auc: 0.97759\tvalid_1's auc: 0.825289\n",
      "[79]\ttraining's auc: 0.977631\tvalid_1's auc: 0.825502\n",
      "[80]\ttraining's auc: 0.977771\tvalid_1's auc: 0.825676\n",
      "[81]\ttraining's auc: 0.977706\tvalid_1's auc: 0.825581\n",
      "[82]\ttraining's auc: 0.97776\tvalid_1's auc: 0.825399\n",
      "[83]\ttraining's auc: 0.97772\tvalid_1's auc: 0.825519\n",
      "[84]\ttraining's auc: 0.977722\tvalid_1's auc: 0.825563\n",
      "[85]\ttraining's auc: 0.977698\tvalid_1's auc: 0.825456\n",
      "[86]\ttraining's auc: 0.977717\tvalid_1's auc: 0.82567\n",
      "[87]\ttraining's auc: 0.977775\tvalid_1's auc: 0.825751\n",
      "[88]\ttraining's auc: 0.977789\tvalid_1's auc: 0.825815\n",
      "[89]\ttraining's auc: 0.977777\tvalid_1's auc: 0.825816\n",
      "[90]\ttraining's auc: 0.977792\tvalid_1's auc: 0.82575\n",
      "[91]\ttraining's auc: 0.977781\tvalid_1's auc: 0.825579\n",
      "[92]\ttraining's auc: 0.977834\tvalid_1's auc: 0.825767\n",
      "[93]\ttraining's auc: 0.977794\tvalid_1's auc: 0.825962\n",
      "[94]\ttraining's auc: 0.977798\tvalid_1's auc: 0.826032\n",
      "[95]\ttraining's auc: 0.977819\tvalid_1's auc: 0.82626\n",
      "[96]\ttraining's auc: 0.977779\tvalid_1's auc: 0.826289\n",
      "[97]\ttraining's auc: 0.977808\tvalid_1's auc: 0.82619\n",
      "[98]\ttraining's auc: 0.977715\tvalid_1's auc: 0.826289\n",
      "[99]\ttraining's auc: 0.977665\tvalid_1's auc: 0.826287\n",
      "[100]\ttraining's auc: 0.977671\tvalid_1's auc: 0.826175\n",
      "[101]\ttraining's auc: 0.977739\tvalid_1's auc: 0.826311\n",
      "[102]\ttraining's auc: 0.977709\tvalid_1's auc: 0.826207\n",
      "[103]\ttraining's auc: 0.977766\tvalid_1's auc: 0.8263\n",
      "[104]\ttraining's auc: 0.977788\tvalid_1's auc: 0.826252\n",
      "[105]\ttraining's auc: 0.977803\tvalid_1's auc: 0.826303\n",
      "[106]\ttraining's auc: 0.977805\tvalid_1's auc: 0.826295\n",
      "[107]\ttraining's auc: 0.97781\tvalid_1's auc: 0.826243\n",
      "[108]\ttraining's auc: 0.97783\tvalid_1's auc: 0.826326\n",
      "[109]\ttraining's auc: 0.977857\tvalid_1's auc: 0.826288\n"
     ]
    },
    {
     "name": "stdout",
     "output_type": "stream",
     "text": [
      "[110]\ttraining's auc: 0.977871\tvalid_1's auc: 0.826343\n",
      "[111]\ttraining's auc: 0.977871\tvalid_1's auc: 0.826409\n",
      "[112]\ttraining's auc: 0.977866\tvalid_1's auc: 0.826462\n",
      "[113]\ttraining's auc: 0.977876\tvalid_1's auc: 0.826534\n",
      "[114]\ttraining's auc: 0.977863\tvalid_1's auc: 0.82663\n",
      "[115]\ttraining's auc: 0.977878\tvalid_1's auc: 0.826645\n",
      "[116]\ttraining's auc: 0.977923\tvalid_1's auc: 0.826574\n",
      "[117]\ttraining's auc: 0.977921\tvalid_1's auc: 0.826548\n",
      "[118]\ttraining's auc: 0.977945\tvalid_1's auc: 0.826514\n",
      "[119]\ttraining's auc: 0.977902\tvalid_1's auc: 0.82667\n",
      "[120]\ttraining's auc: 0.977917\tvalid_1's auc: 0.826711\n",
      "[121]\ttraining's auc: 0.977903\tvalid_1's auc: 0.826594\n",
      "[122]\ttraining's auc: 0.977902\tvalid_1's auc: 0.826538\n",
      "[123]\ttraining's auc: 0.977924\tvalid_1's auc: 0.826604\n",
      "[124]\ttraining's auc: 0.977939\tvalid_1's auc: 0.826637\n",
      "[125]\ttraining's auc: 0.97792\tvalid_1's auc: 0.826761\n",
      "[126]\ttraining's auc: 0.977894\tvalid_1's auc: 0.826651\n",
      "[127]\ttraining's auc: 0.977885\tvalid_1's auc: 0.826793\n",
      "[128]\ttraining's auc: 0.977938\tvalid_1's auc: 0.826786\n",
      "[129]\ttraining's auc: 0.977904\tvalid_1's auc: 0.826669\n",
      "[130]\ttraining's auc: 0.977908\tvalid_1's auc: 0.82671\n",
      "[131]\ttraining's auc: 0.977947\tvalid_1's auc: 0.826635\n",
      "[132]\ttraining's auc: 0.977941\tvalid_1's auc: 0.826554\n",
      "[133]\ttraining's auc: 0.977924\tvalid_1's auc: 0.826461\n",
      "[134]\ttraining's auc: 0.977925\tvalid_1's auc: 0.82658\n",
      "[135]\ttraining's auc: 0.977905\tvalid_1's auc: 0.826473\n",
      "[136]\ttraining's auc: 0.977892\tvalid_1's auc: 0.826395\n",
      "[137]\ttraining's auc: 0.977899\tvalid_1's auc: 0.826636\n",
      "[138]\ttraining's auc: 0.977926\tvalid_1's auc: 0.826641\n",
      "[139]\ttraining's auc: 0.977927\tvalid_1's auc: 0.826654\n",
      "[140]\ttraining's auc: 0.977932\tvalid_1's auc: 0.826612\n",
      "[141]\ttraining's auc: 0.977918\tvalid_1's auc: 0.826486\n",
      "[142]\ttraining's auc: 0.977931\tvalid_1's auc: 0.826448\n",
      "[143]\ttraining's auc: 0.977964\tvalid_1's auc: 0.826511\n",
      "[144]\ttraining's auc: 0.977945\tvalid_1's auc: 0.826608\n",
      "[145]\ttraining's auc: 0.977954\tvalid_1's auc: 0.826702\n",
      "[146]\ttraining's auc: 0.977955\tvalid_1's auc: 0.826767\n",
      "[147]\ttraining's auc: 0.977988\tvalid_1's auc: 0.826763\n",
      "Early stopping, best iteration is:\n",
      "[127]\ttraining's auc: 0.977885\tvalid_1's auc: 0.826793\n",
      "                  TrainingSet  ValidationSet\n",
      "bagging_fraction                            \n",
      "0.8                  0.977407       0.824751\n"
     ]
    }
   ],
   "source": [
    "cv('bagging_fraction', [0.8])"
   ]
  },
  {
   "cell_type": "markdown",
   "metadata": {},
   "source": [
    "Generate cv fold results for stacking"
   ]
  },
  {
   "cell_type": "code",
   "execution_count": 17,
   "metadata": {
    "collapsed": true
   },
   "outputs": [],
   "source": [
    "filename = 'rf_w2v_lda_lsi_'"
   ]
  },
  {
   "cell_type": "code",
   "execution_count": 18,
   "metadata": {
    "collapsed": true
   },
   "outputs": [],
   "source": [
    "def training_forstacking(train, valid):\n",
    "    X = lgb.Dataset(train.drop(['user_id', 'work_id', 'rating'], axis=1), train['rating'])\n",
    "    gbdt = lgb.train(params, X, num_boost_round=93)\n",
    "    Yvp = gbdt.predict(valid.drop(['user_id', 'work_id', 'rating'], axis=1))\n",
    "    return Yvp\n",
    "\n",
    "def cv_forstacking():\n",
    "    rst = []\n",
    "    for fold in [1,2,3]:\n",
    "        t = pd.read_csv(data+'train_{0}.csv'.format(str(fold)))\n",
    "        v = pd.read_csv(data+'valid_{0}.csv'.format(str(fold)))\n",
    "        #t['item_category'] = t.item_category.astype('category')\n",
    "        #v['item_category'] = v.item_category.astype('category')\n",
    "        pv = training_forstacking(t, v)\n",
    "        f = v[['user_id', 'work_id', 'rating']].copy()\n",
    "        f['rf_w2v_lda_lsi_prob'] = pv\n",
    "        rst.append(f)\n",
    "    pd.concat(rst).to_csv('/mnt/d/Data/mangaki-data-challenge/features/level1/'+filename+\"train.csv\", index=False)"
   ]
  },
  {
   "cell_type": "code",
   "execution_count": 19,
   "metadata": {
    "collapsed": true
   },
   "outputs": [],
   "source": [
    "cv_forstacking()"
   ]
  },
  {
   "cell_type": "code",
   "execution_count": 20,
   "metadata": {
    "collapsed": true
   },
   "outputs": [],
   "source": [
    "def testprob():\n",
    "    t = pd.read_csv(data+'train_0.csv')\n",
    "    v = pd.read_csv(data+'test_0.csv')\n",
    "    #t['item_category'] = t.item_category.astype('category')\n",
    "    #v['item_category'] = v.item_category.astype('category')\n",
    "    X = lgb.Dataset(t.drop(['user_id', 'work_id', 'rating'], axis=1), t['rating'])\n",
    "    gbdt = lgb.train(params, X, num_boost_round=93)\n",
    "    Yvp = gbdt.predict(v.drop(['user_id', 'work_id'], axis=1))\n",
    "    f = v[['user_id', 'work_id']].copy()\n",
    "    f['rf_w2v_lda_lsi_prob'] = Yvp\n",
    "    f.to_csv('/mnt/d/Data/mangaki-data-challenge/features/level1/'+filename+\"test.csv\", index=False)"
   ]
  },
  {
   "cell_type": "code",
   "execution_count": 21,
   "metadata": {
    "collapsed": true
   },
   "outputs": [],
   "source": [
    "testprob()"
   ]
  },
  {
   "cell_type": "markdown",
   "metadata": {},
   "source": [
    "LibFM"
   ]
  },
  {
   "cell_type": "code",
   "execution_count": 11,
   "metadata": {
    "collapsed": true
   },
   "outputs": [],
   "source": [
    "import pandas as pd\n",
    "import numpy as np\n",
    "from sklearn.metrics import roc_auc_score\n",
    "from sklearn.datasets import load_svmlight_file\n",
    "\n",
    "path = \"/mnt/d/Data/mangaki-data-challenge/libfm/\""
   ]
  },
  {
   "cell_type": "code",
   "execution_count": 25,
   "metadata": {
    "collapsed": true
   },
   "outputs": [],
   "source": [
    "params = {\n",
    "    'n_iter':340000, \n",
    "    'init_stdev':0.01,\n",
    "    'l2_reg_w':0.00025,\n",
    "    'l2_reg_V':0.5,\n",
    "    'rank':1,\n",
    "    'step_size':0.02\n",
    "}"
   ]
  },
  {
   "cell_type": "code",
   "execution_count": 13,
   "metadata": {
    "collapsed": true
   },
   "outputs": [],
   "source": [
    "from scipy.sparse import hstack\n",
    "from fastFM import sgd\n",
    "\n",
    "def train_fm(train, valid, trainy, validy):\n",
    "    fm = sgd.FMClassification(**params)\n",
    "    fm.fit(train, np.require(trainy*2-1, dtype=np.int))\n",
    "    return (roc_auc_score(trainy, fm.predict_proba(train)), roc_auc_score(validy, fm.predict_proba(valid)))\n",
    "\n",
    "def cv_fm(param, paramlst):\n",
    "    trainauc = [0.0]*len(paramlst)\n",
    "    validauc = [0.0]*len(paramlst)\n",
    "    for i, p in enumerate(paramlst):\n",
    "        params[param]=p\n",
    "        tv = [0,0,0]\n",
    "        vv = [0,0,0]\n",
    "        for fold in [1,2,3]:\n",
    "            train, ty = load_svmlight_file(path+\"train_{0}.csv\".format(fold))\n",
    "            valid, vy = load_svmlight_file(path+\"valid_{0}.csv\".format(fold))\n",
    "            ta = pd.read_csv(data+'train_{0}.csv'.format(str(fold))).fillna(0)\n",
    "            va = pd.read_csv(data+'valid_{0}.csv'.format(str(fold))).fillna(0)\n",
    "            tv[fold-1], vv[fold-1] = train_fm(train, valid, ty, vy)\n",
    "        trainauc[i]=np.mean(tv)\n",
    "        validauc[i]=np.mean(vv)\n",
    "    paramtable = pd.DataFrame({\n",
    "        'TrainingSet': trainauc,\n",
    "        'ValidationSet': validauc\n",
    "    }, columns=['TrainingSet', 'ValidationSet'], index=pd.Index(paramlst, name=param))\n",
    "    print(paramtable)"
   ]
  },
  {
   "cell_type": "code",
   "execution_count": 26,
   "metadata": {},
   "outputs": [
    {
     "name": "stdout",
     "output_type": "stream",
     "text": [
      "          TrainingSet  ValidationSet\n",
      "l2_reg_V                            \n",
      "0.4          0.920071       0.806509\n",
      "0.5          0.920067       0.806510\n",
      "0.6          0.920065       0.806509\n"
     ]
    }
   ],
   "source": [
    "cv_fm('l2_reg_V', [0.4, 0.5, 0.6])"
   ]
  },
  {
   "cell_type": "markdown",
   "metadata": {
    "collapsed": true
   },
   "source": [
    "level1 stacking cv"
   ]
  },
  {
   "cell_type": "code",
   "execution_count": 102,
   "metadata": {
    "collapsed": true
   },
   "outputs": [],
   "source": [
    "X = []\n",
    "Xv = []\n",
    "Y = []\n",
    "Yv = []\n",
    "for cv in [1,2,3]:\n",
    "    t = pd.read_csv(data+'train_{0}.csv'.format(str(cv)))\n",
    "    v = pd.read_csv(data+'valid_{0}.csv'.format(str(cv)))\n",
    "    X.append(t.ix[:, 3:].values)\n",
    "    Y.append(t.ix[:, 2].values)\n",
    "    Xv.append(v.ix[:, 3:].values)\n",
    "    Yv.append(v.ix[:, 2].values)"
   ]
  },
  {
   "cell_type": "code",
   "execution_count": 9,
   "metadata": {
    "scrolled": false
   },
   "outputs": [
    {
     "data": {
      "text/plain": [
       "GridSearchCV(cv=5, error_score='raise',\n",
       "       estimator=LogisticRegression(C=1.0, class_weight=None, dual=False, fit_intercept=True,\n",
       "          intercept_scaling=1, max_iter=100, multi_class='ovr', n_jobs=1,\n",
       "          penalty='l1', random_state=None, solver='liblinear', tol=0.0001,\n",
       "          verbose=0, warm_start=False),\n",
       "       fit_params={}, iid=True, n_jobs=1,\n",
       "       param_grid={'C': [0.05, 0.1, 0.2, 0.4, 0.5, 0.6, 0.7]},\n",
       "       pre_dispatch='2*n_jobs', refit=True, return_train_score=True,\n",
       "       scoring='roc_auc', verbose=0)"
      ]
     },
     "execution_count": 9,
     "metadata": {},
     "output_type": "execute_result"
    }
   ],
   "source": [
    "from sklearn.linear_model import LogisticRegression\n",
    "from sklearn.model_selection import GridSearchCV\n",
    "\n",
    "param_grid = {'C': [0.05, 0.1, 0.2, 0.4, 0.5, 0.6, 0.7]}\n",
    "\n",
    "t = pd.read_csv(data+'train_0.csv')\n",
    "X = t.ix[:, 3:].values\n",
    "Y = t.ix[:, 2].values\n",
    "\n",
    "lr = LogisticRegression(penalty='l1')\n",
    "lrcv = GridSearchCV(lr, param_grid, scoring='roc_auc', cv=5)\n",
    "lrcv.fit(X, Y)"
   ]
  },
  {
   "cell_type": "code",
   "execution_count": 113,
   "metadata": {},
   "outputs": [
    {
     "name": "stdout",
     "output_type": "stream",
     "text": [
      "Automatic pdb calling has been turned ON\n"
     ]
    }
   ],
   "source": [
    "%pdb"
   ]
  },
  {
   "cell_type": "code",
   "execution_count": 10,
   "metadata": {},
   "outputs": [
    {
     "name": "stderr",
     "output_type": "stream",
     "text": [
      "/home/ike/.miniconda3/envs/intel/lib/python3.5/site-packages/sklearn/model_selection/_search.py:667: DeprecationWarning: The grid_scores_ attribute was deprecated in version 0.18 in favor of the more elaborate cv_results_ attribute. The grid_scores_ attribute will not be available from 0.20\n",
      "  DeprecationWarning)\n"
     ]
    },
    {
     "data": {
      "text/plain": [
       "[mean: 0.84403, std: 0.00680, params: {'C': 0.05},\n",
       " mean: 0.84436, std: 0.00675, params: {'C': 0.1},\n",
       " mean: 0.84436, std: 0.00684, params: {'C': 0.2},\n",
       " mean: 0.84438, std: 0.00692, params: {'C': 0.4},\n",
       " mean: 0.84439, std: 0.00693, params: {'C': 0.5},\n",
       " mean: 0.84439, std: 0.00694, params: {'C': 0.6},\n",
       " mean: 0.84439, std: 0.00694, params: {'C': 0.7}]"
      ]
     },
     "execution_count": 10,
     "metadata": {},
     "output_type": "execute_result"
    }
   ],
   "source": [
    "lrcv.grid_scores_"
   ]
  },
  {
   "cell_type": "code",
   "execution_count": 125,
   "metadata": {},
   "outputs": [
    {
     "name": "stderr",
     "output_type": "stream",
     "text": [
      "/home/ike/.miniconda3/envs/intel/lib/python3.5/site-packages/sklearn/model_selection/_search.py:667: DeprecationWarning: The grid_scores_ attribute was deprecated in version 0.18 in favor of the more elaborate cv_results_ attribute. The grid_scores_ attribute will not be available from 0.20\n",
      "  DeprecationWarning)\n"
     ]
    },
    {
     "data": {
      "text/plain": [
       "[mean: 0.84171, std: 0.00621, params: {'penalty': 'l1', 'C': 0.05},\n",
       " mean: 0.84035, std: 0.00622, params: {'penalty': 'l2', 'C': 0.05},\n",
       " mean: 0.84218, std: 0.00623, params: {'penalty': 'l1', 'C': 0.1},\n",
       " mean: 0.84149, std: 0.00624, params: {'penalty': 'l2', 'C': 0.1},\n",
       " mean: 0.84217, std: 0.00628, params: {'penalty': 'l1', 'C': 0.2},\n",
       " mean: 0.84195, std: 0.00632, params: {'penalty': 'l2', 'C': 0.2},\n",
       " mean: 0.84207, std: 0.00636, params: {'penalty': 'l1', 'C': 0.4},\n",
       " mean: 0.84214, std: 0.00640, params: {'penalty': 'l2', 'C': 0.4}]"
      ]
     },
     "execution_count": 125,
     "metadata": {},
     "output_type": "execute_result"
    }
   ],
   "source": [
    "v = pd.read_csv(data+'test_0.csv')"
   ]
  },
  {
   "cell_type": "code",
   "execution_count": null,
   "metadata": {
    "collapsed": true
   },
   "outputs": [],
   "source": []
  }
 ],
 "metadata": {
  "kernelspec": {
   "display_name": "Python 3",
   "language": "python",
   "name": "python3"
  },
  "language_info": {
   "codemirror_mode": {
    "name": "ipython",
    "version": 3
   },
   "file_extension": ".py",
   "mimetype": "text/x-python",
   "name": "python",
   "nbconvert_exporter": "python",
   "pygments_lexer": "ipython3",
   "version": "3.5.2"
  }
 },
 "nbformat": 4,
 "nbformat_minor": 2
}
